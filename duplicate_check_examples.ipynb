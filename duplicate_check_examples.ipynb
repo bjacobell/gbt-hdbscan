{
 "cells": [
  {
   "cell_type": "code",
   "execution_count": null,
   "metadata": {},
   "outputs": [],
   "source": [
    "#  This notebook gives a few examples to demonstrate the apparent \n",
    "#  duplicate .dat files and hits in the 97-galaxies paper.\n",
    "\n",
    "#  Duplicate hits do not affect the turboSETI analysis,\n",
    "#  but they do affect HDBSCAN by artificially overpopulating\n",
    "#  certain regions of the feature space, so I've excised the\n",
    "#  duplicates for this work."
   ]
  },
  {
   "cell_type": "code",
   "execution_count": 1,
   "metadata": {},
   "outputs": [],
   "source": [
    "import numpy as np\n",
    "import pandas as pd\n",
    "import matplotlib.pyplot as plt"
   ]
  },
  {
   "cell_type": "code",
   "execution_count": 2,
   "metadata": {},
   "outputs": [
    {
     "name": "stdout",
     "output_type": "stream",
     "text": [
      "Index(['Target', 'Session', 'Band', 'Cadence ID', 'Frequency', '.h5 path',\n",
      "       '.dat path', 'Time'],\n",
      "      dtype='object')\n"
     ]
    }
   ],
   "source": [
    "#  read in catalog and print column headers\n",
    "csv_file = '/home/cgchoza/galaxies/complete_cadences_catalog.csv'\n",
    "df = pd.read_csv(csv_file)\n",
    "print(df.keys())"
   ]
  },
  {
   "cell_type": "code",
   "execution_count": 3,
   "metadata": {},
   "outputs": [
    {
     "name": "stdout",
     "output_type": "stream",
     "text": [
      "There are 459 cadences (compare to Table 1 value of 459).\n",
      "There are 30462 unique cadence/dat combinations out of 36558 combinations overall,\n",
      "    suggesting 6096 .dat files are double-counted.\n"
     ]
    }
   ],
   "source": [
    "#  retrieve cadence IDs\n",
    "cadence_IDs = df['Cadence ID'].values\n",
    "dat_paths = df['.dat path'].values\n",
    "\n",
    "#  verify some information from Table 1 in the paper to make sure I'm on the right track\n",
    "print(f'There are {len(np.unique(cadence_IDs))} cadences (compare to Table 1 value of 459).')\n",
    "\n",
    "#  check whether any cadences point to the same .dat file multiple times\n",
    "cadence_dat_lineup = np.transpose(np.array([cadence_IDs, dat_paths]).astype('str'))\n",
    "unique_lines = np.unique(cadence_dat_lineup, axis=0)\n",
    "print(f'There are {len(unique_lines)} unique cadence/dat combinations out of {len(cadence_dat_lineup)} combinations overall,')\n",
    "print(f'    suggesting {len(cadence_dat_lineup) - len(unique_lines)} .dat files are double-counted.')\n",
    "\n",
    "#  Note that the above does not work if we replace cadence_dat_lineup with the full dataframe,\n",
    "#  since the 'Frequency' column does still change."
   ]
  },
  {
   "cell_type": "code",
   "execution_count": 4,
   "metadata": {},
   "outputs": [
    {
     "name": "stdout",
     "output_type": "stream",
     "text": [
      "Before trimming, there are 3247717 hits in the .dat file set.\n",
      "After trimming, there are 2186151 hits.\n",
      "(Compare to 2186151 hits recorded in Table 1.)\n"
     ]
    }
   ],
   "source": [
    "#  Now we check the number of hits by reading in the data from all .dat files.\n",
    "\n",
    "#  I'm working at L-band, so I isolate the L-band lines of the dataframe:\n",
    "dfl = df.iloc[np.where(df['Band'].values == 'L')[0]]\n",
    "\n",
    "#  and grab the corresponding .dat paths:\n",
    "l_dat_paths = dfl['.dat path'].values\n",
    "\n",
    "#  build a list of hit positions (in both frequency space and file space) \n",
    "#  by going into each .dat file and dumping all its hits into a new list\n",
    "#  (takes about 30 seconds to run on blpc2)\n",
    "list_of_hit_positions = []\n",
    "for dat_path in l_dat_paths:\n",
    "    df_dat = pd.read_table(dat_path, sep='\\s+', names=['Top_Hit_#','Drift_Rate','SNR','Uncorrected_Frequency','Corrected_Frequency',\n",
    "                                            'Index', 'freq_start', 'freq_end', 'SEFD', 'SEFD_freq', 'Coarse_Channel_Number', \n",
    "                                            'Full_number_of_hits'], skiprows=9)\n",
    "    for freq in df_dat['Uncorrected_Frequency'].values:\n",
    "        hit_position = np.array([freq, dat_path])\n",
    "        list_of_hit_positions.append(hit_position)\n",
    "\n",
    "print(f'Before trimming, there are {len(list_of_hit_positions)} hits in the .dat file set.')\n",
    "\n",
    "#  trim the hits outside the sensitivity range\n",
    "#  (at L-band, this means hits below 1.1 GHz, above 1.9 GHz,\n",
    "#  or within the notch filter range of 1.2–1.34 GHz)\n",
    "list_of_hit_positions = np.array(list_of_hit_positions)\n",
    "freqs = list_of_hit_positions[:,0].astype('float64')\n",
    "list_of_hit_positions_in_range = list_of_hit_positions[np.where(\n",
    "    ((freqs > 1100) & (freqs < 1200))\n",
    "    |\n",
    "    ((freqs > 1340) & (freqs < 1900))\n",
    ")[0]]\n",
    "\n",
    "print(f'After trimming, there are {len(list_of_hit_positions_in_range)} hits.')\n",
    "print('(Compare to 2186151 hits recorded in Table 1.)')"
   ]
  },
  {
   "cell_type": "code",
   "execution_count": 5,
   "metadata": {},
   "outputs": [
    {
     "name": "stdout",
     "output_type": "stream",
     "text": [
      "The after-trimming hit set has 1918067 unique hits,\n",
      "so there are 268084 duplicates.\n"
     ]
    }
   ],
   "source": [
    "#  This looks good so far.\n",
    "#  However, when filtering for duplicates (cell takes ~10 sec to run):\n",
    "num_unique_hits = len(np.unique(list_of_hit_positions_in_range, axis=0))\n",
    "print(f'The after-trimming hit set has {num_unique_hits} unique hits,')\n",
    "print(f'so there are {len(list_of_hit_positions_in_range) - num_unique_hits} duplicates.')"
   ]
  },
  {
   "cell_type": "code",
   "execution_count": 6,
   "metadata": {},
   "outputs": [
    {
     "name": "stdout",
     "output_type": "stream",
     "text": [
      "At L-band, there are 3846 unique .dat files in the catalog out of 5454 overall,\n",
      "suggesting 1608 duplicates.\n",
      "We plot to confirm:\n"
     ]
    },
    {
     "data": {
      "image/png": "[encoded data removed]",
      "text/plain": [
       "<Figure size 432x288 with 1 Axes>"
      ]
     },
     "metadata": {
      "needs_background": "light"
     },
     "output_type": "display_data"
    }
   ],
   "source": [
    "#  Investigating the duplicates further:\n",
    "l_cadence_IDs = dfl['Cadence ID'].values\n",
    "l_cadence_dat_lineup = np.transpose(np.array([l_cadence_IDs, l_dat_paths]).astype('str'))\n",
    "print(f'At L-band, there are {len(np.unique(l_cadence_dat_lineup, axis=0))} unique .dat files in the catalog out of {len(l_cadence_dat_lineup)} overall,')\n",
    "print(f'suggesting {len(l_cadence_dat_lineup) - len(np.unique(l_cadence_dat_lineup, axis=0))} duplicates.')\n",
    "print('We plot to confirm:')\n",
    "\n",
    "counts = []\n",
    "duplicate_dats = []\n",
    "for dat in np.unique(l_dat_paths):\n",
    "    count = len(np.where(l_dat_paths == dat)[0])\n",
    "    counts.append(count)\n",
    "    if count == 2:\n",
    "        duplicate_dats.append(dat)\n",
    "\n",
    "plt.plot(counts, ls='', marker='o')\n",
    "plt.xlabel('L-band .dat file path index (arbitrary order)')\n",
    "plt.ylabel('occurrences in catalog (for a given cadence ID)')\n",
    "plt.yticks([0, 1, 2])\n",
    "plt.show()"
   ]
  },
  {
   "cell_type": "code",
   "execution_count": 7,
   "metadata": {},
   "outputs": [
    {
     "name": "stdout",
     "output_type": "stream",
     "text": [
      "24789      /home/obs/turboseti/AGBT18A_999_103/collate/spliced_blc0001020304050607_guppi_58306_39511_Bol520_0014.gpuspec.0000/spliced_blc0001020304050607_guppi_58306_39511_Bol520_0014.gpuspec.0000.dat\n",
      "24789      /home/obs/turboseti/AGBT18A_999_103/collate/spliced_blc0001020304050607_guppi_58306_40134_Bol520_off_0015.gpuspec.0000/spliced_blc0001020304050607_guppi_58306_40134_Bol520_off_0015.gpuspec.0000.dat\n",
      "24789      /home/obs/turboseti/AGBT18A_999_103/collate/spliced_blc0001020304050607_guppi_58306_40769_Bol520_0016.gpuspec.0000/spliced_blc0001020304050607_guppi_58306_40769_Bol520_0016.gpuspec.0000.dat\n",
      "24789      /home/obs/turboseti/AGBT18A_999_103/collate/spliced_blc0001020304050607_guppi_58306_41409_Bol520_off_0017.gpuspec.0000/spliced_blc0001020304050607_guppi_58306_41409_Bol520_off_0017.gpuspec.0000.dat\n",
      "24789      /home/obs/turboseti/AGBT18A_999_103/collate/spliced_blc0001020304050607_guppi_58306_42049_Bol520_0018.gpuspec.0000/spliced_blc0001020304050607_guppi_58306_42049_Bol520_0018.gpuspec.0000.dat\n",
      "24789      /home/obs/turboseti/AGBT18A_999_103/collate/spliced_blc0001020304050607_guppi_58306_42687_Bol520_off_0019.gpuspec.0000/spliced_blc0001020304050607_guppi_58306_42687_Bol520_off_0019.gpuspec.0000.dat\n",
      "24791      /home/obs/turboseti/AGBT18A_999_103/collate/spliced_blc0001020304050607_guppi_58306_40769_Bol520_0016.gpuspec.0000/spliced_blc0001020304050607_guppi_58306_40769_Bol520_0016.gpuspec.0000.dat\n",
      "24791      /home/obs/turboseti/AGBT18A_999_103/collate/spliced_blc0001020304050607_guppi_58306_41409_Bol520_off_0017.gpuspec.0000/spliced_blc0001020304050607_guppi_58306_41409_Bol520_off_0017.gpuspec.0000.dat\n",
      "24791      /home/obs/turboseti/AGBT18A_999_103/collate/spliced_blc0001020304050607_guppi_58306_42049_Bol520_0018.gpuspec.0000/spliced_blc0001020304050607_guppi_58306_42049_Bol520_0018.gpuspec.0000.dat\n",
      "24791      /home/obs/turboseti/AGBT18A_999_103/collate/spliced_blc0001020304050607_guppi_58306_42687_Bol520_off_0019.gpuspec.0000/spliced_blc0001020304050607_guppi_58306_42687_Bol520_off_0019.gpuspec.0000.dat\n",
      "24791      /home/obs/turboseti/AGBT18A_999_103/collate/spliced_blc0001020304050607_guppi_58306_43323_Bol520_0020.gpuspec.0000/spliced_blc0001020304050607_guppi_58306_43323_Bol520_0020.gpuspec.0000.dat\n",
      "24791      /home/obs/turboseti/AGBT18A_999_103/collate/spliced_blc0001020304050607_guppi_58306_43958_Bol520_off_0021.gpuspec.0000/spliced_blc0001020304050607_guppi_58306_43958_Bol520_off_0021.gpuspec.0000.dat\n"
     ]
    }
   ],
   "source": [
    "#  The plot suggests that several .dat files appear twice for a single cadence ID.\n",
    "#  The number is actually 1612, not 1608 — reflected in the 'counts' vector and the plot but not in the calculation above.\n",
    "#  This is because 4 observations of Bol 520 are part of two separate cadences (IDs 24789 and 24791) —\n",
    "#  so there are 1608 duplicate .dat/cadence combinations, although there are 1612 duplicate .dats.\n",
    "\n",
    "df_bol520 = dfl.iloc[np.where(dfl['Target'].values == 'BOL520')[0]]\n",
    "for i in range(len(df_bol520['Target'].values)):\n",
    "    c = df_bol520['Cadence ID'].values[i]\n",
    "    d = df_bol520['.dat path'].values[i]\n",
    "    print(f'{c}      {d}')"
   ]
  },
  {
   "cell_type": "code",
   "execution_count": 8,
   "metadata": {},
   "outputs": [],
   "source": [
    "#  Grabbing all the duplicate hits, we can run a couple statistical tests on them.\n",
    "\n",
    "duplicate_hit_files = []\n",
    "duplicate_hit_frequencies = []\n",
    "for dat_path in duplicate_dats:\n",
    "    df_dat = pd.read_table(dat_path, sep='\\s+', names=['Top_Hit_#','Drift_Rate','SNR','Uncorrected_Frequency','Corrected_Frequency',\n",
    "                                            'Index', 'freq_start', 'freq_end', 'SEFD', 'SEFD_freq', 'Coarse_Channel_Number', \n",
    "                                            'Full_number_of_hits'], skiprows=9)\n",
    "    for freq in df_dat['Uncorrected_Frequency'].values:\n",
    "        duplicate_hit_files.append(dat_path)\n",
    "        duplicate_hit_frequencies.append(freq)\n",
    "\n",
    "duplicate_hit_frequencies = np.array(duplicate_hit_frequencies)\n",
    "duplicate_hit_files = np.array(duplicate_hit_files)\n",
    "\n",
    "#  trim the duplicates to sensitivity range\n",
    "idxs = np.where(\n",
    "    ((duplicate_hit_frequencies > 1100) & (duplicate_hit_frequencies < 1200))\n",
    "    |\n",
    "    ((duplicate_hit_frequencies > 1340) & (duplicate_hit_frequencies < 1900))\n",
    ")[0]\n",
    "\n",
    "duplicate_hit_frequencies_in_range = duplicate_hit_frequencies[idxs]\n",
    "duplicate_hit_files_in_range = duplicate_hit_files[idxs]"
   ]
  },
  {
   "cell_type": "code",
   "execution_count": 9,
   "metadata": {},
   "outputs": [
    {
     "data": {
      "image/png": "[encoded data removed]",
      "text/plain": [
       "<Figure size 432x288 with 1 Axes>"
      ]
     },
     "metadata": {
      "needs_background": "light"
     },
     "output_type": "display_data"
    }
   ],
   "source": [
    "#  Plotting first the relative frequency distribution\n",
    "\n",
    "plt.hist(list_of_hit_positions_in_range[:,0].astype('float64'), bins=50, range=(1100, 1900), histtype='step', label='all .dats')\n",
    "plt.hist(duplicate_hit_frequencies_in_range, bins=50, range=(1100, 1900), histtype='step', label='duplicates only')\n",
    "plt.yscale('log')\n",
    "plt.xlabel('frequency [MHz]')\n",
    "plt.title('frequency distribution of duplicate hits vs. all hits')\n",
    "plt.legend()\n",
    "plt.show()"
   ]
  },
  {
   "cell_type": "code",
   "execution_count": 10,
   "metadata": {},
   "outputs": [],
   "source": [
    "#  get hit counts for each .dat file\n",
    "_, hit_counts = np.unique(duplicate_hit_files_in_range, return_counts=True)\n",
    "_, hit_counts_all = np.unique(np.unique(list_of_hit_positions_in_range, axis=0)[:,1], return_counts=True)"
   ]
  },
  {
   "cell_type": "code",
   "execution_count": 17,
   "metadata": {},
   "outputs": [
    {
     "data": {
      "image/png": "[encoded data removed]",
      "text/plain": [
       "<Figure size 432x288 with 1 Axes>"
      ]
     },
     "metadata": {
      "needs_background": "light"
     },
     "output_type": "display_data"
    }
   ],
   "source": [
    "#  Investigate trends among the .dats that were being duplicated.\n",
    "#  This plots the distribution of .dats by the number of hits they contain,\n",
    "#  and shows that it's mostly .dats with hit counts in the 5–30 range that\n",
    "#  got duplicated. (Note that the range of hit counts is 1 to 6799!)\n",
    "\n",
    "def plot_loghist(x, bins, range, label):\n",
    "  hist, bins = np.histogram(x, bins=bins, range=range)\n",
    "  logbins = np.logspace(np.log10(bins[0]),np.log10(bins[-1]),len(bins))\n",
    "  plt.hist(x, bins=logbins, histtype='step', range=range, label=label)\n",
    "  plt.xscale('log')\n",
    "\n",
    "plot_loghist(hit_counts_all, 20, (1,7000), 'all .dats')\n",
    "plot_loghist(hit_counts, 20, (1,7000), 'duplicates only')\n",
    "plt.xlabel('number of hits in a .dat file')\n",
    "plt.ylabel('number of .dats')\n",
    "plt.title('distribution of .dat files by hit count')\n",
    "#plt.yscale('log')\n",
    "plt.legend()\n",
    "plt.show()"
   ]
  },
  {
   "cell_type": "code",
   "execution_count": 18,
   "metadata": {},
   "outputs": [
    {
     "data": {
      "image/png": "[encoded data removed]",
      "text/plain": [
       "<Figure size 432x288 with 1 Axes>"
      ]
     },
     "metadata": {
      "needs_background": "light"
     },
     "output_type": "display_data"
    }
   ],
   "source": [
    "#  This generates a version of the above plot with linear x-axis and logarithmic y-axis,\n",
    "#  highlighting the skew of the duplicates toward the lower hit count range.\n",
    "\n",
    "plt.hist(hit_counts_all, range=(0,7000), bins=50, histtype='step', label='all .dats')\n",
    "plt.hist(hit_counts, range=(0,7000), bins=50, histtype='step', label='duplicates only')\n",
    "plt.yscale('log')\n",
    "plt.xlabel('number of hits in a .dat file')\n",
    "plt.ylabel('number of .dats')\n",
    "plt.title('distribution of .dat files by hit count')\n",
    "plt.legend()\n",
    "plt.show()"
   ]
  },
  {
   "cell_type": "code",
   "execution_count": null,
   "metadata": {},
   "outputs": [],
   "source": []
  }
 ],
 "metadata": {
  "kernelspec": {
   "display_name": "base",
   "language": "python",
   "name": "python3"
  },
  "language_info": {
   "codemirror_mode": {
    "name": "ipython",
    "version": 3
   },
   "file_extension": ".py",
   "mimetype": "text/x-python",
   "name": "python",
   "nbconvert_exporter": "python",
   "pygments_lexer": "ipython3",
   "version": "3.7.6"
  }
 },
 "nbformat": 4,
 "nbformat_minor": 2
}
