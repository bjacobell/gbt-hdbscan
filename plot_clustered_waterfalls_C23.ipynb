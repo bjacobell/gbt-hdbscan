{
 "cells": [
  {
   "cell_type": "code",
   "execution_count": 1,
   "metadata": {},
   "outputs": [
    {
     "name": "stdout",
     "output_type": "stream",
     "text": [
      "numexpr.utils   INFO     Note: NumExpr detected 40 cores but \"NUMEXPR_MAX_THREADS\" not set, so enforcing safe limit of 8.\n",
      "numexpr.utils   INFO     NumExpr defaulting to 8 threads.\n"
     ]
    }
   ],
   "source": [
    "import numpy as np\n",
    "import blimpy as bl\n",
    "import matplotlib.pyplot as plt\n",
    "import pandas as pd\n",
    "%matplotlib inline"
   ]
  },
  {
   "cell_type": "code",
   "execution_count": 2,
   "metadata": {},
   "outputs": [],
   "source": [
    "cci = np.load('/datax/scratch/benjb/C23_L_non_anom_centroid_idxs.npy', allow_pickle=True)\n",
    "ccc = np.load('/datax/scratch/benjb/C23_L_non_anom_centroids.npy', allow_pickle=True)\n",
    "\n",
    "kmeans_labels = np.load('/datax/scratch/benjb/C23_L_kmeans_labels.npy')"
   ]
  },
  {
   "cell_type": "code",
   "execution_count": 3,
   "metadata": {},
   "outputs": [],
   "source": [
    "hit_params = np.load('/datax/scratch/benjb/C23_L_unique_param_array.npy', allow_pickle=True)\n",
    "hit_dats = np.load('/datax/scratch/benjb/C23_L_unique_dat_list.npy', allow_pickle=True)[:,1]"
   ]
  },
  {
   "cell_type": "code",
   "execution_count": null,
   "metadata": {},
   "outputs": [],
   "source": [
    "### NEED A WAY TO LINK TO CORRESPONDING .H5 FILES — CARMEN'S CSV?"
   ]
  },
  {
   "cell_type": "code",
   "execution_count": 4,
   "metadata": {},
   "outputs": [],
   "source": [
    "df = pd.read_csv('/home/cgchoza/galaxies/complete_cadences_catalog.csv')"
   ]
  },
  {
   "cell_type": "code",
   "execution_count": 6,
   "metadata": {},
   "outputs": [
    {
     "name": "stdout",
     "output_type": "stream",
     "text": [
      "36558\n",
      "30314\n"
     ]
    }
   ],
   "source": [
    "h5s = df['.h5 path'].values\n",
    "print(len(h5s))\n",
    "print(len(np.unique(h5s)))"
   ]
  },
  {
   "cell_type": "code",
   "execution_count": 8,
   "metadata": {},
   "outputs": [
    {
     "name": "stdout",
     "output_type": "stream",
     "text": [
      "36558\n",
      "30314\n"
     ]
    }
   ],
   "source": [
    "dats = df['.dat path'].values\n",
    "print(len(dats))\n",
    "print(len(np.unique(dats)))"
   ]
  },
  {
   "cell_type": "code",
   "execution_count": 11,
   "metadata": {},
   "outputs": [
    {
     "name": "stdout",
     "output_type": "stream",
     "text": [
      "Working on 0\n",
      "Working on 10000\n",
      "Working on 20000\n",
      "Working on 30000\n",
      "Working on 40000\n",
      "Working on 50000\n",
      "Working on 60000\n",
      "Working on 70000\n",
      "Working on 80000\n",
      "Working on 90000\n",
      "Working on 100000\n",
      "Working on 110000\n",
      "Working on 120000\n",
      "Working on 130000\n",
      "Working on 140000\n",
      "Working on 150000\n",
      "Working on 160000\n",
      "Working on 170000\n",
      "Working on 180000\n",
      "Working on 190000\n",
      "Working on 200000\n",
      "Working on 210000\n",
      "Working on 220000\n",
      "Working on 230000\n",
      "Working on 240000\n",
      "Working on 250000\n",
      "Working on 260000\n",
      "Working on 270000\n",
      "Working on 280000\n",
      "Working on 290000\n",
      "Working on 300000\n",
      "Working on 310000\n",
      "Working on 320000\n",
      "Working on 330000\n",
      "Working on 340000\n",
      "Working on 350000\n",
      "Working on 360000\n",
      "Working on 370000\n",
      "Working on 380000\n",
      "Working on 390000\n",
      "Working on 400000\n",
      "Working on 410000\n",
      "Working on 420000\n",
      "Working on 430000\n",
      "Working on 440000\n",
      "Working on 450000\n",
      "Working on 460000\n",
      "Working on 470000\n",
      "Working on 480000\n",
      "Working on 490000\n",
      "Working on 500000\n",
      "Working on 510000\n",
      "Working on 520000\n",
      "Working on 530000\n",
      "Working on 540000\n",
      "Working on 550000\n",
      "Working on 560000\n",
      "Working on 570000\n",
      "Working on 580000\n",
      "Working on 590000\n",
      "Working on 600000\n",
      "Working on 610000\n",
      "Working on 620000\n",
      "Working on 630000\n",
      "Working on 640000\n",
      "Working on 650000\n",
      "Working on 660000\n",
      "Working on 670000\n",
      "Working on 680000\n",
      "Working on 690000\n",
      "Working on 700000\n",
      "Working on 710000\n",
      "Working on 720000\n",
      "Working on 730000\n",
      "Working on 740000\n",
      "Working on 750000\n",
      "Working on 760000\n",
      "Working on 770000\n",
      "Working on 780000\n",
      "Working on 790000\n",
      "Working on 800000\n",
      "Working on 810000\n",
      "Working on 820000\n",
      "Working on 830000\n",
      "Working on 840000\n",
      "Working on 850000\n",
      "Working on 860000\n",
      "Working on 870000\n",
      "Working on 880000\n",
      "Working on 890000\n",
      "Working on 900000\n",
      "Working on 910000\n",
      "Working on 920000\n",
      "Working on 930000\n",
      "Working on 940000\n",
      "Working on 950000\n",
      "Working on 960000\n",
      "Working on 970000\n",
      "Working on 980000\n",
      "Working on 990000\n",
      "Working on 1000000\n",
      "Working on 1010000\n",
      "Working on 1020000\n",
      "Working on 1030000\n",
      "Working on 1040000\n",
      "Working on 1050000\n",
      "Working on 1060000\n",
      "Working on 1070000\n",
      "Working on 1080000\n",
      "Working on 1090000\n",
      "Working on 1100000\n",
      "Working on 1110000\n",
      "Working on 1120000\n",
      "Working on 1130000\n",
      "Working on 1140000\n",
      "Working on 1150000\n",
      "Working on 1160000\n",
      "Working on 1170000\n",
      "Working on 1180000\n",
      "Working on 1190000\n",
      "Working on 1200000\n",
      "Working on 1210000\n",
      "Working on 1220000\n",
      "Working on 1230000\n",
      "Working on 1240000\n",
      "Working on 1250000\n",
      "Working on 1260000\n",
      "Working on 1270000\n",
      "Working on 1280000\n",
      "Working on 1290000\n",
      "Working on 1300000\n",
      "Working on 1310000\n",
      "Working on 1320000\n",
      "Working on 1330000\n",
      "Working on 1340000\n",
      "Working on 1350000\n",
      "Working on 1360000\n",
      "Working on 1370000\n",
      "Working on 1380000\n",
      "Working on 1390000\n",
      "Working on 1400000\n",
      "Working on 1410000\n",
      "Working on 1420000\n",
      "Working on 1430000\n",
      "Working on 1440000\n",
      "Working on 1450000\n",
      "Working on 1460000\n",
      "Working on 1470000\n",
      "Working on 1480000\n",
      "Working on 1490000\n",
      "Working on 1500000\n",
      "Working on 1510000\n",
      "Working on 1520000\n",
      "Working on 1530000\n",
      "Working on 1540000\n",
      "Working on 1550000\n",
      "Working on 1560000\n",
      "Working on 1570000\n",
      "Working on 1580000\n",
      "Working on 1590000\n",
      "Working on 1600000\n",
      "Working on 1610000\n",
      "Working on 1620000\n",
      "Working on 1630000\n",
      "Working on 1640000\n",
      "Working on 1650000\n",
      "Working on 1660000\n",
      "Working on 1670000\n",
      "Working on 1680000\n",
      "Working on 1690000\n",
      "Working on 1700000\n",
      "Working on 1710000\n",
      "Working on 1720000\n",
      "Working on 1730000\n",
      "Working on 1740000\n",
      "Working on 1750000\n",
      "Working on 1760000\n",
      "Working on 1770000\n",
      "Working on 1780000\n",
      "Working on 1790000\n",
      "Working on 1800000\n",
      "Working on 1810000\n",
      "Working on 1820000\n",
      "Working on 1830000\n",
      "Working on 1840000\n",
      "Working on 1850000\n",
      "Working on 1860000\n",
      "Working on 1870000\n",
      "Working on 1880000\n",
      "Working on 1890000\n",
      "Working on 1900000\n",
      "Working on 1910000\n"
     ]
    }
   ],
   "source": [
    "hit_h5s = []\n",
    "h5_list = np.unique(df['.h5 path'].values)\n",
    "dat_list = np.unique(df['.dat path'].values)\n",
    "\n",
    "for i, dat in enumerate(hit_dats):\n",
    "    if i%10000 == 0:\n",
    "        print(f'Working on {i}')\n",
    "    idx = np.where(dat_list == dat)[0]\n",
    "    h5 = h5_list[idx]\n",
    "    hit_h5s.append(h5)"
   ]
  },
  {
   "cell_type": "code",
   "execution_count": 12,
   "metadata": {},
   "outputs": [
    {
     "name": "stdout",
     "output_type": "stream",
     "text": [
      "(1917903, 1)\n"
     ]
    }
   ],
   "source": [
    "hit_h5s = np.array(hit_h5s)\n",
    "print(hit_h5s.shape)"
   ]
  },
  {
   "cell_type": "code",
   "execution_count": 15,
   "metadata": {},
   "outputs": [
    {
     "name": "stdout",
     "output_type": "stream",
     "text": [
      "/datag/pipeline/AGBT21A_996_47/blc06/blc06_guppi_59405_66861_LeoA_0096.rawspec.0000.h5\n"
     ]
    }
   ],
   "source": [
    "print(np.squeeze(hit_h5s)[0])"
   ]
  },
  {
   "cell_type": "code",
   "execution_count": 16,
   "metadata": {},
   "outputs": [],
   "source": [
    "np.save('/datax/scratch/benjb/C23_L_unique_h5_list.npy', np.squeeze(hit_h5s))"
   ]
  },
  {
   "cell_type": "code",
   "execution_count": 20,
   "metadata": {},
   "outputs": [
    {
     "data": {
      "image/png": "[encoded data removed]",
      "text/plain": [
       "<Figure size 432x288 with 1 Axes>"
      ]
     },
     "metadata": {
      "needs_background": "light"
     },
     "output_type": "display_data"
    }
   ],
   "source": [
    "### k-means labeling\n",
    "\n",
    "plt.hist(kmeans_labels, bins=120)\n",
    "plt.yscale('log')\n",
    "plt.show()"
   ]
  },
  {
   "cell_type": "code",
   "execution_count": null,
   "metadata": {},
   "outputs": [],
   "source": [
    "# random_assortment_of_labels = np.random.randint(0, 120, 20)\n",
    "\n",
    "# for label in random_assortment_of_labels:\n",
    "#     pick 100 signals with that label\n",
    "#     plot them\n",
    "#     ..."
   ]
  }
 ],
 "metadata": {
  "kernelspec": {
   "display_name": "Python 3",
   "language": "python",
   "name": "python3"
  },
  "language_info": {
   "codemirror_mode": {
    "name": "ipython",
    "version": 3
   },
   "file_extension": ".py",
   "mimetype": "text/x-python",
   "name": "python",
   "nbconvert_exporter": "python",
   "pygments_lexer": "ipython3",
   "version": "3.7.6"
  }
 },
 "nbformat": 4,
 "nbformat_minor": 2
}
