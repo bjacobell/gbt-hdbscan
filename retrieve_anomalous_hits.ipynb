{
 "cells": [
  {
   "cell_type": "code",
   "execution_count": 1,
   "metadata": {},
   "outputs": [],
   "source": [
    "import numpy as np"
   ]
  },
  {
   "cell_type": "code",
   "execution_count": 4,
   "metadata": {},
   "outputs": [],
   "source": [
    "hit_params = np.load('/datax/scratch/benjb/C23_L_unique_param_array.npy', allow_pickle=True)\n",
    "hit_dats = np.load('/datax/scratch/benjb/C23_L_unique_dat_list.npy', allow_pickle=True)\n",
    "dat_list_for_hit_deletion = np.load('/datax/scratch/benjb/C23_L_dat_list_for_hit_deletion_strings.npy', allow_pickle=True)"
   ]
  },
  {
   "cell_type": "code",
   "execution_count": 5,
   "metadata": {},
   "outputs": [
    {
     "name": "stdout",
     "output_type": "stream",
     "text": [
      "(1917903, 12)\n",
      "(1917903, 2)\n",
      "(884206, 2)\n"
     ]
    }
   ],
   "source": [
    "print(hit_params.shape)\n",
    "print(hit_dats.shape)\n",
    "print(dat_list_for_hit_deletion.shape)"
   ]
  },
  {
   "cell_type": "code",
   "execution_count": 6,
   "metadata": {},
   "outputs": [],
   "source": [
    "delete_dat_list_strings = [i[0] + i[1] for i in dat_list_for_hit_deletion.astype('str')]\n",
    "dat_list_strings = [i[0] + i[1] for i in hit_dats.astype('str')]"
   ]
  },
  {
   "cell_type": "code",
   "execution_count": 11,
   "metadata": {},
   "outputs": [
    {
     "name": "stdout",
     "output_type": "stream",
     "text": [
      "0\n"
     ]
    },
    {
     "ename": "KeyboardInterrupt",
     "evalue": "",
     "output_type": "error",
     "traceback": [
      "\u001b[0;31m---------------------------------------------------------------------------\u001b[0m",
      "\u001b[0;31mKeyboardInterrupt\u001b[0m                         Traceback (most recent call last)",
      "Cell \u001b[0;32mIn[11], line 7\u001b[0m\n\u001b[1;32m      5\u001b[0m     \u001b[38;5;28mprint\u001b[39m(i)\n\u001b[1;32m      6\u001b[0m \u001b[38;5;28;01mif\u001b[39;00m \u001b[38;5;129;01mnot\u001b[39;00m dat_list_strings[i] \u001b[38;5;129;01min\u001b[39;00m delete_dat_list_strings:\n\u001b[0;32m----> 7\u001b[0m     idxs\u001b[38;5;241m.\u001b[39mappend(i)\n",
      "\u001b[0;31mKeyboardInterrupt\u001b[0m: "
     ]
    }
   ],
   "source": [
    "idxs = []\n",
    "\n",
    "for i in range(len(hit_params)):\n",
    "    if i%1000 == 0:\n",
    "        print(i)\n",
    "    if not dat_list_strings[i] in delete_dat_list_strings:\n",
    "        idxs.append(i)"
   ]
  },
  {
   "cell_type": "code",
   "execution_count": null,
   "metadata": {},
   "outputs": [],
   "source": [
    "idxs = np.array(idxs)\n",
    "\n",
    "np.save('/datax/scratch/benjb/C23_L_anomalous_hit_idxs.npy', idxs)"
   ]
  },
  {
   "cell_type": "code",
   "execution_count": 3,
   "metadata": {},
   "outputs": [],
   "source": [
    "idxs = np.load('/datax/scratch/benjb/C23_L_anomalous_hit_idxs.npy', allow_pickle=True)"
   ]
  },
  {
   "cell_type": "code",
   "execution_count": 4,
   "metadata": {},
   "outputs": [
    {
     "name": "stdout",
     "output_type": "stream",
     "text": [
      "1033697\n"
     ]
    }
   ],
   "source": [
    "print(len(idxs))"
   ]
  },
  {
   "cell_type": "code",
   "execution_count": null,
   "metadata": {},
   "outputs": [],
   "source": []
  }
 ],
 "metadata": {
  "kernelspec": {
   "display_name": "sklearn-env",
   "language": "python",
   "name": "python3"
  },
  "language_info": {
   "codemirror_mode": {
    "name": "ipython",
    "version": 3
   },
   "file_extension": ".py",
   "mimetype": "text/x-python",
   "name": "python",
   "nbconvert_exporter": "python",
   "pygments_lexer": "ipython3",
   "version": "3.7.6"
  }
 },
 "nbformat": 4,
 "nbformat_minor": 2
}
