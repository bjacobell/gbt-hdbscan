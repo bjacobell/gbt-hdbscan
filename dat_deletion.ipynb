{
 "cells": [
  {
   "cell_type": "code",
   "execution_count": 9,
   "metadata": {},
   "outputs": [],
   "source": [
    "# Script to delete non-anomalous hits from .dat files after GLOBULAR clustering.\n",
    "\n",
    "import numpy as np\n",
    "import shutil\n",
    "import psutil\n",
    "import os"
   ]
  },
  {
   "cell_type": "code",
   "execution_count": null,
   "metadata": {},
   "outputs": [],
   "source": [
    "hit_dats = np.load('/datax/scratch/benjb/C23_L_unique_dat_list.npy', allow_pickle=True)[:,1]\n",
    "\n",
    "# Need to copy .dats into new folder so previous work isn't affected.\n",
    "print('Copying dats to /datax/scratch/benjb/C23_L_dats_after_8_HDB_epochs/ ...')\n",
    "\n",
    "for dat in np.unique(hit_dats):\n",
    "    shutil.copy(dat, '/datax/scratch/benjb/C23_L_dats_after_8_HDB_epochs/')\n",
    "\n",
    "print('Copied!')"
   ]
  },
  {
   "cell_type": "code",
   "execution_count": 3,
   "metadata": {},
   "outputs": [],
   "source": [
    "iii = np.load('/datax/scratch/benjb/C23_L_non_anom_centroid_idxs.npy')\n",
    "hit_params = np.load('/datax/scratch/benjb/C23_L_unique_param_array.npy', allow_pickle=True)\n",
    "hit_dats = np.load('/datax/scratch/benjb/C23_L_unique_dat_list.npy', allow_pickle=True)[:,1]"
   ]
  },
  {
   "cell_type": "code",
   "execution_count": 4,
   "metadata": {},
   "outputs": [],
   "source": [
    "freqs_for_deletion = hit_params[iii, 0]\n",
    "dats_for_deletion = hit_dats[iii]"
   ]
  },
  {
   "cell_type": "code",
   "execution_count": null,
   "metadata": {},
   "outputs": [],
   "source": [
    "total_count = len(dats_for_deletion)\n",
    "\n",
    "# This can take a while.\n",
    "print('Beginning hit deletion ...')\n",
    "\n",
    "for i in range(len(dats_for_deletion)):\n",
    "    freq = freqs_for_deletion[i]\n",
    "    dat_path = '/datax/scratch/benjb/C23_L_dats_after_8_HDB_epochs/'+os.path.basename(dats_for_deletion[i])\n",
    "    if i%20000 == 0:\n",
    "        print(f'{i} of {total_count}: Removing hit at {freq} MHz from {dat_path}')\n",
    "\n",
    "    bytes_available = psutil.virtual_memory()[1]\n",
    "    if bytes_available <= 32e9:\n",
    "        print(f'Memory dangerously low: {bytes_available} bytes remaining. Breaking ...')\n",
    "        break\n",
    "\n",
    "    lines = []\n",
    "    for line in open(dat_path):\n",
    "        if not str(freq) in line:\n",
    "            lines.append(line)\n",
    "\n",
    "    with open(dat_path, 'w') as file:\n",
    "        file.writelines(lines)\n",
    "        file.close()"
   ]
  }
 ],
 "metadata": {
  "kernelspec": {
   "display_name": "base",
   "language": "python",
   "name": "python3"
  },
  "language_info": {
   "codemirror_mode": {
    "name": "ipython",
    "version": 3
   },
   "file_extension": ".py",
   "mimetype": "text/x-python",
   "name": "python",
   "nbconvert_exporter": "python",
   "pygments_lexer": "ipython3",
   "version": "3.7.6"
  }
 },
 "nbformat": 4,
 "nbformat_minor": 2
}
