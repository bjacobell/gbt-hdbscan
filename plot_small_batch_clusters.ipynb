{
 "cells": [
  {
   "cell_type": "code",
   "execution_count": 2,
   "metadata": {},
   "outputs": [
    {
     "name": "stdout",
     "output_type": "stream",
     "text": [
      "numexpr.utils   INFO     Note: NumExpr detected 40 cores but \"NUMEXPR_MAX_THREADS\" not set, so enforcing safe limit of 8.\n",
      "numexpr.utils   INFO     NumExpr defaulting to 8 threads.\n"
     ]
    }
   ],
   "source": [
    "import numpy as np\n",
    "import matplotlib.pyplot as plt\n",
    "import blimpy as bl\n",
    "import glob\n",
    "import pandas as pd\n",
    "%matplotlib inline"
   ]
  },
  {
   "cell_type": "code",
   "execution_count": 3,
   "metadata": {},
   "outputs": [],
   "source": [
    "cci = np.load('/datax/scratch/benjb/C23_L_M31_injections/HDBSCAN/non_anom_centroid_idxs.npy', allow_pickle=True)\n",
    "ccc = np.load('/datax/scratch/benjb/C23_L_M31_injections/HDBSCAN/non_anom_centroids.npy', allow_pickle=True)"
   ]
  },
  {
   "cell_type": "code",
   "execution_count": 4,
   "metadata": {},
   "outputs": [],
   "source": [
    "unique_ccc, unique_inv, counts = np.unique(ccc, axis=0, return_inverse=True, return_counts=True)"
   ]
  },
  {
   "cell_type": "code",
   "execution_count": 4,
   "metadata": {},
   "outputs": [
    {
     "name": "stdout",
     "output_type": "stream",
     "text": [
      "(15582, 12)\n",
      "(12485, 12)\n",
      "1917903\n",
      "(1909390, 12)\n",
      "(1921875, 12)\n",
      "(1921875,)\n"
     ]
    }
   ],
   "source": [
    "m31_params = np.concatenate(np.load('/datax/scratch/benjb/C23_L_M31_injections/M31_retrieval_params.npy', allow_pickle=True))\n",
    "m31_dat_paths = np.load('/datax/scratch/benjb/C23_L_M31_injections/M31_retrieval_dat_paths.npy', allow_pickle=True)\n",
    "dats = np.sort(glob.glob('/datax/scratch/benjb/C23_L_M31_injections/blc7*.dat'))\n",
    "freqs = []\n",
    "drifts = []\n",
    "snrs = []\n",
    "for dat in dats:\n",
    "    df = pd.read_table(dat, sep='\\s+', names=['Top_Hit_#','Drift_Rate','SNR','Uncorrected_Frequency','Corrected_Frequency',\n",
    "                                            'Index', 'freq_start', 'freq_end', 'SEFD', 'SEFD_freq', 'Coarse_Channel_Number', \n",
    "                                            'Full_number_of_hits'], skiprows=9)\n",
    "    table_freqs = df['Uncorrected_Frequency'].values\n",
    "    table_drifts = df['Drift_Rate'].values\n",
    "    table_snrs = df['SNR'].values\n",
    "    freqs.append(table_freqs)\n",
    "    drifts.append(table_drifts)\n",
    "    snrs.append(table_snrs)\n",
    "freqs = np.concatenate(freqs)\n",
    "drifts = np.concatenate(drifts)\n",
    "snrs = np.concatenate(snrs)\n",
    "tseti_params = np.transpose([freqs, drifts, snrs])\n",
    "full_m31_params = np.hstack((tseti_params, m31_params))\n",
    "print(full_m31_params.shape)\n",
    "trimmed_m31_params = full_m31_params[\n",
    "    np.where(((full_m31_params[:,0] > 1100) & (full_m31_params[:,0] < 1200)) |\n",
    "             ((full_m31_params[:,0] > 1340) & (full_m31_params[:,0] < 1900)))[0]\n",
    "]\n",
    "trimmed_m31_dats = m31_dat_paths[\n",
    "    np.where(((full_m31_params[:,0] > 1100) & (full_m31_params[:,0] < 1200)) |\n",
    "             ((full_m31_params[:,0] > 1340) & (full_m31_params[:,0] < 1900)))[0]\n",
    "]\n",
    "print(trimmed_m31_params.shape)\n",
    "hit_params = np.load('/datax/scratch/benjb/C23_L_unique_param_array.npy', allow_pickle=True)\n",
    "hit_dats = np.load('/datax/scratch/benjb/C23_L_unique_dat_list.npy', allow_pickle=True)[:,1]\n",
    "print(len(hit_dats))\n",
    "\n",
    "ff = []\n",
    "for i, dat in enumerate(hit_dats):\n",
    "    if 'MESSIER031' in dat:\n",
    "        if ('blc72' in dat) | ('blc73' in dat) | ('blc74' in dat) | ('blc75' in dat):\n",
    "            ff.append(hit_params[i,0])\n",
    "\n",
    "params_without_m31 = []\n",
    "dats_without_m31 = []\n",
    "\n",
    "for i, dat in enumerate(hit_dats):\n",
    "    if 'MESSIER031' in dat:\n",
    "        if ('blc72' in dat) | ('blc73' in dat) | ('blc74' in dat) | ('blc75' in dat):\n",
    "            continue\n",
    "    params_without_m31.append(hit_params[i])\n",
    "    dats_without_m31.append(dat)\n",
    "\n",
    "print(np.array(params_without_m31).shape)\n",
    "\n",
    "hit_params = np.vstack((np.array(params_without_m31), trimmed_m31_params))\n",
    "hit_dats = np.concatenate((np.array(dats_without_m31), trimmed_m31_dats[:,1]))\n",
    "print(hit_params.shape)\n",
    "print(hit_dats.shape)"
   ]
  },
  {
   "cell_type": "code",
   "execution_count": 5,
   "metadata": {},
   "outputs": [
    {
     "name": "stdout",
     "output_type": "stream",
     "text": [
      "(1918199, 13)\n",
      "(1918199,)\n"
     ]
    }
   ],
   "source": [
    "hit_params = np.load('/datax/scratch/benjb/C23_L_M31_injections/HDBSCAN/input_params.npy', allow_pickle=True)\n",
    "hit_dats = np.load('/datax/scratch/benjb/C23_L_M31_injections/HDBSCAN/input_param_dats.npy', allow_pickle=True)\n",
    "print(hit_params.shape)\n",
    "print(hit_dats.shape)"
   ]
  },
  {
   "cell_type": "code",
   "execution_count": 6,
   "metadata": {},
   "outputs": [],
   "source": [
    "old_params = np.load('/datax/scratch/benjb/C23_L_unique_param_array.npy', allow_pickle=True)\n",
    "old_dats = np.load('/datax/scratch/benjb/C23_L_unique_dat_list.npy', allow_pickle=True)[:,1]\n",
    "old_h5s = np.load('/datax/scratch/benjb/C23_L_unique_h5_list.npy', allow_pickle=True)"
   ]
  },
  {
   "cell_type": "code",
   "execution_count": 8,
   "metadata": {},
   "outputs": [
    {
     "name": "stdout",
     "output_type": "stream",
     "text": [
      "/home/obs/turboseti/AGBT18A_999_103/collate/spliced_blc0001020304050607_guppi_58306_31766_DDO210_0002.gpuspec.0000/spliced_blc0001020304050607_guppi_58306_31766_DDO210_0002.gpuspec.0000.dat\n",
      "/datag/pipeline/AGBT18A_999_103/collate/spliced_blc0001020304050607_guppi_58306_31766_DDO210_0002.gpuspec.0000.h5\n",
      "/home/obs/turboseti/AGBT19B_999_121/blc71_blp01/blc71_guppi_58832_12658_HIP4581_0046.gpuspec.0000/blc71_guppi_58832_12658_HIP4581_0046.gpuspec.0000.dat\n",
      "/datag/pipeline/AGBT19B_999_121/blc71_blp01/blc71_guppi_58832_12658_HIP4581_0046.gpuspec.0000.h5\n",
      "/home/obs/turboseti/AGBT22B_999_20/blc16_blp06/blc16_guppi_59886_09904_HIP16803_0071.rawspec.0000/blc16_guppi_59886_09904_HIP16803_0071.rawspec.0000.dat\n",
      "/datag/pipeline/AGBT22B_999_20/blc16_blp06/blc16_guppi_59886_09904_HIP16803_0071.rawspec.0000.h5\n"
     ]
    }
   ],
   "source": [
    "unique_old_dats = np.unique(old_dats)\n",
    "unique_old_h5s = np.unique(old_h5s)\n",
    "print(unique_old_dats[0])\n",
    "print(unique_old_h5s[0])\n",
    "print(unique_old_dats[51])\n",
    "print(unique_old_h5s[51])\n",
    "print(unique_old_dats[3001])\n",
    "print(unique_old_h5s[3001])"
   ]
  },
  {
   "cell_type": "code",
   "execution_count": 14,
   "metadata": {},
   "outputs": [
    {
     "name": "stdout",
     "output_type": "stream",
     "text": [
      "12\n",
      "12\n",
      "/datax/scratch/benjb/C23_L_M31_injections/blc72_guppi_58832_16209_MESSIER031_0057.gpuspec.0000.dat\n",
      "/datax/scratch/benjb/C23_L_M31_injections/blc72_guppi_58832_16209_MESSIER031_0057.gpuspec.0000.h5\n",
      "/datax/scratch/benjb/C23_L_M31_injections/blc72_guppi_58832_16851_MESSIER031_0059.gpuspec.0000.dat\n",
      "/datax/scratch/benjb/C23_L_M31_injections/blc72_guppi_58832_16851_MESSIER031_0059.gpuspec.0000.h5\n",
      "/datax/scratch/benjb/C23_L_M31_injections/blc72_guppi_58832_17485_MESSIER031_0061.gpuspec.0000.dat\n",
      "/datax/scratch/benjb/C23_L_M31_injections/blc72_guppi_58832_17485_MESSIER031_0061.gpuspec.0000.h5\n",
      "/datax/scratch/benjb/C23_L_M31_injections/blc73_guppi_58832_16209_MESSIER031_0057.gpuspec.0000.dat\n",
      "/datax/scratch/benjb/C23_L_M31_injections/blc73_guppi_58832_16209_MESSIER031_0057.gpuspec.0000.h5\n",
      "/datax/scratch/benjb/C23_L_M31_injections/blc73_guppi_58832_16851_MESSIER031_0059.gpuspec.0000.dat\n",
      "/datax/scratch/benjb/C23_L_M31_injections/blc73_guppi_58832_16851_MESSIER031_0059.gpuspec.0000.h5\n",
      "/datax/scratch/benjb/C23_L_M31_injections/blc73_guppi_58832_17485_MESSIER031_0061.gpuspec.0000.dat\n",
      "/datax/scratch/benjb/C23_L_M31_injections/blc73_guppi_58832_17485_MESSIER031_0061.gpuspec.0000.h5\n",
      "/datax/scratch/benjb/C23_L_M31_injections/blc74_guppi_58832_16209_MESSIER031_0057.gpuspec.0000.dat\n",
      "/datax/scratch/benjb/C23_L_M31_injections/blc74_guppi_58832_16209_MESSIER031_0057.gpuspec.0000.h5\n",
      "/datax/scratch/benjb/C23_L_M31_injections/blc74_guppi_58832_16851_MESSIER031_0059.gpuspec.0000.dat\n",
      "/datax/scratch/benjb/C23_L_M31_injections/blc74_guppi_58832_16851_MESSIER031_0059.gpuspec.0000.h5\n",
      "/datax/scratch/benjb/C23_L_M31_injections/blc74_guppi_58832_17485_MESSIER031_0061.gpuspec.0000.dat\n",
      "/datax/scratch/benjb/C23_L_M31_injections/blc74_guppi_58832_17485_MESSIER031_0061.gpuspec.0000.h5\n",
      "/datax/scratch/benjb/C23_L_M31_injections/blc75_guppi_58832_16209_MESSIER031_0057.gpuspec.0000.dat\n",
      "/datax/scratch/benjb/C23_L_M31_injections/blc75_guppi_58832_16209_MESSIER031_0057.gpuspec.0000.h5\n",
      "/datax/scratch/benjb/C23_L_M31_injections/blc75_guppi_58832_16851_MESSIER031_0059.gpuspec.0000.dat\n",
      "/datax/scratch/benjb/C23_L_M31_injections/blc75_guppi_58832_16851_MESSIER031_0059.gpuspec.0000.h5\n",
      "/datax/scratch/benjb/C23_L_M31_injections/blc75_guppi_58832_17485_MESSIER031_0061.gpuspec.0000.dat\n",
      "/datax/scratch/benjb/C23_L_M31_injections/blc75_guppi_58832_17485_MESSIER031_0061.gpuspec.0000.h5\n"
     ]
    }
   ],
   "source": [
    "datlist = glob.glob('/datax/scratch/benjb/C23_L_M31_injections/blc7*.dat')\n",
    "h5list = glob.glob('/datax/scratch/benjb/C23_L_M31_injections/blc7*.h5')\n",
    "print(len(datlist))\n",
    "print(len(h5list))\n",
    "for i in range(12):\n",
    "    print(np.sort(datlist)[i])\n",
    "    print(np.sort(h5list)[i])\n",
    "\n",
    "unique_old_dats = np.concatenate((unique_old_dats, np.sort(datlist)))\n",
    "unique_old_h5s = np.concatenate((unique_old_h5s, np.sort(h5list)))"
   ]
  },
  {
   "cell_type": "code",
   "execution_count": 20,
   "metadata": {},
   "outputs": [
    {
     "data": {
      "image/png": "[encoded data removed]",
      "text/plain": [
       "<Figure size 432x288 with 1 Axes>"
      ]
     },
     "metadata": {
      "needs_background": "light"
     },
     "output_type": "display_data"
    }
   ],
   "source": [
    "plt.hist(np.log(counts), bins=50)\n",
    "plt.yscale('log')\n",
    "plt.show()"
   ]
  },
  {
   "cell_type": "code",
   "execution_count": 53,
   "metadata": {},
   "outputs": [
    {
     "name": "stdout",
     "output_type": "stream",
     "text": [
      "0\n"
     ]
    }
   ],
   "source": [
    "counter = 0\n",
    "for i, count in enumerate(counts):\n",
    "    if (count < 20) | (count > 500):\n",
    "        continue\n",
    "    centroid = unique_ccc[i]\n",
    "    #print(centroid)\n",
    "    #print(i)\n",
    "    if i <= 175000:\n",
    "        continue\n",
    "    print(count)\n",
    "    print(i)\n",
    "    idxs = cci[np.where(unique_inv == i)[0]]\n",
    "    #print(len(idxs))\n",
    "    #print(ccc[np.where(unique_inv == i)[0]])\n",
    "    #print(idxs)\n",
    "    counter += 1\n",
    "    if counter > 10: # change to 10 for 10 figures\n",
    "        break\n",
    "    needed_params = hit_params[idxs]\n",
    "    needed_dats = hit_dats[idxs]\n",
    "    random_sample_idxs = np.random.choice(len(needed_params), 20, replace=False)\n",
    "    random_sample_params = needed_params[random_sample_idxs]\n",
    "    random_sample_dats = needed_dats[random_sample_idxs]\n",
    "    #break\n",
    "    fig, axs = plt.subplots(2, 10, figsize=(10,2))\n",
    "    for j in range(2):\n",
    "        for k in range(10):\n",
    "            ii = 10*j + k\n",
    "            print(ii)\n",
    "            freq = random_sample_params[ii, 0]\n",
    "            print(random_sample_dats[ii])\n",
    "            h5 = unique_old_h5s[np.where(unique_old_dats==random_sample_dats[ii])[0]][0]\n",
    "            print(h5)\n",
    "            fb = bl.Waterfall(h5, f_start = freq-0.00135, f_stop = freq+0.00135)\n",
    "            _, dynamic_spectrum = fb.grab_data()\n",
    "            axs[j][k].imshow(np.log10(dynamic_spectrum), aspect='auto', interpolation='none')\n",
    "            axs[j][k].text(0.06, 0.85, f'{round(freq, 2)} MHz', size=6, color='white', horizontalalignment='left', transform=axs[j][k].transAxes)\n",
    "            axs[j][k].set_xticklabels([])\n",
    "            axs[j][k].set_yticklabels([])\n",
    "            axs[j][k].set_yticks([])\n",
    "            axs[j][k].set_xticks([])\n",
    "    plt.subplots_adjust(wspace=0.1, hspace=0.1)\n",
    "    plt.savefig(f'/datax/scratch/benjb/C23_L_M31_injections/small_batch_cluster_pdfs_13/cluster_{i}.pdf', bbox_inches='tight')\n",
    "    #plt.show()\n",
    "    #break\n",
    "print(counter)"
   ]
  },
  {
   "cell_type": "code",
   "execution_count": null,
   "metadata": {},
   "outputs": [],
   "source": []
  }
 ],
 "metadata": {
  "kernelspec": {
   "display_name": "base",
   "language": "python",
   "name": "python3"
  },
  "language_info": {
   "codemirror_mode": {
    "name": "ipython",
    "version": 3
   },
   "file_extension": ".py",
   "mimetype": "text/x-python",
   "name": "python",
   "nbconvert_exporter": "python",
   "pygments_lexer": "ipython3",
   "version": "3.7.6"
  }
 },
 "nbformat": 4,
 "nbformat_minor": 2
}
