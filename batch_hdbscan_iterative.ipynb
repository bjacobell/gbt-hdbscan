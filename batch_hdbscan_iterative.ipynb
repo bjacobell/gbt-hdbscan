{
 "cells": [
  {
   "cell_type": "code",
   "execution_count": 1,
   "metadata": {},
   "outputs": [],
   "source": [
    "# This notebook is for writing a script that iteratively batches a dataset, applies HDBSCAN, pools the anomalies,\n",
    "# then does it over again.\n",
    "\n",
    "# Differences from batch_hdbscan.ipynb:\n",
    "#\n",
    "#  -  This notebook must keep track of non-anomalous clusters as well as anomalies,\n",
    "#       and we must find a decent way to match them to each other across batches.\n",
    "#\n",
    "#  -  This notebook must get rid of the day-long process in retrieve_anomalous_hits.ipynb.\n",
    "#       This will be done by assigning hits indices that are carried around with them as they\n",
    "#       get batched and shuffled.\n",
    "#\n",
    "#  -  At the end, we should have:\n",
    "#       (a) a list of anomalous hits, ideally no more than 10% of the initial dataset, which\n",
    "#           can be passed through FindEvent for interesting results\n",
    "#       (b) a list of RFI classes, which can be plotted in PDF form to demonstrate the efficacy\n",
    "#           of the clustering\n",
    "\n",
    "import glob\n",
    "import numpy as np\n",
    "import matplotlib.pyplot as plt\n",
    "import matplotlib.cm as cm\n",
    "import pandas as pd\n",
    "from scipy.stats import skew, kurtosis, norm, mode\n",
    "from sklearn.cluster import DBSCAN, HDBSCAN\n",
    "from sklearn.preprocessing import quantile_transform\n",
    "import psutil\n",
    "import shutil\n",
    "import os\n",
    "%matplotlib inline"
   ]
  },
  {
   "cell_type": "code",
   "execution_count": 113,
   "metadata": {},
   "outputs": [],
   "source": [
    "def preprocess(data):\n",
    "\n",
    "    freqs = data[:,0]\n",
    "    drifts = data[:,1]\n",
    "    snrs = data[:,2]\n",
    "    skews = data[:,3]\n",
    "    kurts = data[:,4]\n",
    "    sarles = data[:,5]\n",
    "    corrs = data[:,6]\n",
    "    tbws = data[:,7]\n",
    "    tskews = data[:,8]\n",
    "    tstds = data[:,9]\n",
    "    fstds = data[:,10]\n",
    "    sigbws = data[:,11]\n",
    "\n",
    "    normal_drifts = quantile_transform(drifts.reshape(len(drifts), 1), n_quantiles=100000, \n",
    "                                   output_distribution='normal', subsample=100000)\n",
    "    normal_drifts = normal_drifts.reshape(len(normal_drifts))\n",
    "\n",
    "    data_arr = np.array([np.argsort(np.argsort(freqs))/len(freqs),\n",
    "                        #0.1*(freqs-np.min(freqs))/np.max(freqs-np.min(freqs)), \n",
    "                        np.abs(normal_drifts)/np.max(np.abs(normal_drifts)), \n",
    "                        (np.log10(snrs)-np.min(np.log10(snrs)))/np.max(np.log10(snrs)-np.min(np.log10(snrs))), \n",
    "                        (skews-np.min(skews))/np.max((skews-np.min(skews))), \n",
    "                        (np.log10(kurts)-np.min(np.log10(kurts)))/np.max(np.log10(kurts)-np.min(np.log10(kurts))), \n",
    "                        sarles, \n",
    "                        corrs, \n",
    "                        (np.log10(tbws*1e6)-np.min(np.log10(tbws*1e6)))/np.max(np.log10(tbws*1e6)-np.min(np.log10(tbws*1e6))),\n",
    "                        (tskews-np.min(tskews))/np.max((tskews-np.min(tskews))),\n",
    "                        (np.log10(tstds)-np.min(np.log10(tstds))),\n",
    "                        (np.log10(fstds)-np.min(np.log10(fstds))),\n",
    "                        sigbws/np.max(sigbws)\n",
    "                        ])  ### PRE-PROCESSED FOR HDBSCAN\n",
    "\n",
    "    data_arr_unscaled = np.array([freqs, \n",
    "                        drifts, \n",
    "                        snrs, \n",
    "                        skews, \n",
    "                        kurts, \n",
    "                        sarles, \n",
    "                        corrs, \n",
    "                        tbws*1e6, # units of Hz\n",
    "                        tskews,\n",
    "                        tstds,\n",
    "                        fstds,\n",
    "                        sigbws*1e6 # units of Hz\n",
    "                        ])\n",
    "\n",
    "    return np.transpose(data_arr), np.transpose(data_arr_unscaled)\n",
    "\n",
    "def batch_hdbscan(batch_arr_scaled, nmincluster, nminsamples, eps):\n",
    "\n",
    "    hdb = HDBSCAN(\n",
    "        min_cluster_size=nmincluster, \n",
    "        min_samples=nminsamples, \n",
    "        cluster_selection_epsilon=eps, \n",
    "        #metric = 'haversine',\n",
    "        leaf_size=40,\n",
    "        n_jobs=10,\n",
    "        cluster_selection_method='eom',\n",
    "        store_centers='centroid')\n",
    "    \n",
    "    X = batch_arr_scaled\n",
    "    hdb.fit(X)\n",
    "\n",
    "    labels_list = hdb.labels_\n",
    "    centroids = hdb.centroids_\n",
    "\n",
    "    return labels_list, centroids"
   ]
  },
  {
   "cell_type": "code",
   "execution_count": 114,
   "metadata": {},
   "outputs": [],
   "source": [
    "hit_params = np.load('/datax/scratch/benjb/C23_L_unique_param_array.npy', allow_pickle=True)\n",
    "hit_dats = np.load('/datax/scratch/benjb/C23_L_unique_dat_list.npy', allow_pickle=True)[:,1]\n",
    "\n",
    "for dat in np.unique(hit_dats):\n",
    "    shutil.copy(dat, '/datax/scratch/benjb/C23_L_dats_iterative/')"
   ]
  },
  {
   "cell_type": "code",
   "execution_count": 115,
   "metadata": {},
   "outputs": [
    {
     "name": "stdout",
     "output_type": "stream",
     "text": [
      "Size hit_params_scaled = 1917903\n",
      "Size hit_params_unscaled = 1917903\n",
      "Commencing round 1!\n",
      "1917903 hits in dataset (100.0% of original).\n",
      "Batching ...\n",
      "Running HDBSCAN on all batches ...\n",
      "0: Removing hit at frequency 1179.608038 from /datax/scratch/benjb/C23_L_dats_iterative/blc05_guppi_59884_39889_HIP61135_0031.rawspec.0000.dat\n",
      "20000: Removing hit at frequency 1618.267279 from /datax/scratch/benjb/C23_L_dats_iterative/blc03_guppi_59405_56904_NGC1407_0066.rawspec.0000.dat\n",
      "40000: Removing hit at frequency 1574.297844 from /datax/scratch/benjb/C23_L_dats_iterative/blc33_guppi_59860_22014_Maffei1_0026.rawspec.0000.dat\n",
      "60000: Removing hit at frequency 1575.518654 from /datax/scratch/benjb/C23_L_dats_iterative/blc03_guppi_59426_77731_HIP59400_0013.rawspec.0000.dat\n",
      "80000: Removing hit at frequency 1599.44487 from /datax/scratch/benjb/C23_L_dats_iterative/blc73_guppi_58832_20115_And_XVI_0069.gpuspec.0000.dat\n",
      "100000: Removing hit at frequency 1383.598018 from /datax/scratch/benjb/C23_L_dats_iterative/blc04_guppi_59405_44453_And_II_0028.rawspec.0000.dat\n",
      "120000: Removing hit at frequency 1544.160873 from /datax/scratch/benjb/C23_L_dats_iterative/blc03_guppi_59440_60506_HIP61298_0101.rawspec.0000.dat\n",
      "140000: Removing hit at frequency 1197.16342 from /datax/scratch/benjb/C23_L_dats_iterative/blc05_guppi_59405_56272_NGC1407_0064.rawspec.0000.dat\n",
      "160000: Removing hit at frequency 1600.496562 from /datax/scratch/benjb/C23_L_dats_iterative/blc73_guppi_58832_11033_NGC0185_0041.gpuspec.0000.dat\n",
      "180000: Removing hit at frequency 1575.755089 from /datax/scratch/benjb/C23_L_dats_iterative/blc73_guppi_58832_09084_NGC7640_0035.gpuspec.0000.dat\n",
      "200000: Removing hit at frequency 1179.986 from /datax/scratch/benjb/C23_L_dats_iterative/blc05_guppi_59427_11033_CVnI_0074.rawspec.0000.dat\n",
      "220000: Removing hit at frequency 1603.827411 from /datax/scratch/benjb/C23_L_dats_iterative/blc03_guppi_59404_28402_WLM_0108.rawspec.0000.dat\n",
      "240000: Removing hit at frequency 1601.119456 from /datax/scratch/benjb/C23_L_dats_iterative/blc33_guppi_59860_22336_HIP12469_0027.rawspec.0000.dat\n",
      "260000: Removing hit at frequency 1575.963301 from /datax/scratch/benjb/C23_L_dats_iterative/blc73_guppi_58832_16209_MESSIER031_0057.gpuspec.0000.dat\n",
      "280000: Removing hit at frequency 1573.873218 from /datax/scratch/benjb/C23_L_dats_iterative/blc73_guppi_58832_08767_HIP115723_0034.gpuspec.0000.dat\n",
      "300000: Removing hit at frequency 1542.537343 from /datax/scratch/benjb/C23_L_dats_iterative/spliced_blc5051525354555657_guppi_58892_54156_NGC5831_0084.rawspec.0000.dat\n",
      "320000: Removing hit at frequency 1574.672906 from /datax/scratch/benjb/C23_L_dats_iterative/blc03_guppi_59404_20939_HIP66329_0087.rawspec.0000.dat\n",
      "340000: Removing hit at frequency 1382.545313 from /datax/scratch/benjb/C23_L_dats_iterative/blc04_guppi_59405_56904_NGC1407_0066.rawspec.0000.dat\n",
      "360000: Removing hit at frequency 1169.264557 from /datax/scratch/benjb/C23_L_dats_iterative/blc05_guppi_59404_02164_HIP50156_0029.rawspec.0000.dat\n",
      "380000: Removing hit at frequency 1177.654546 from /datax/scratch/benjb/C23_L_dats_iterative/blc05_guppi_59405_68551_HIP58762_0101.rawspec.0000.dat\n",
      "400000: Removing hit at frequency 1179.572783 from /datax/scratch/benjb/C23_L_dats_iterative/blc05_guppi_59405_69186_HIP59103_0103.rawspec.0000.dat\n",
      "420000: Removing hit at frequency 1176.88471 from /datax/scratch/benjb/C23_L_dats_iterative/blc35_guppi_59076_82443_HIP54443_0039.rawspec.0000.dat\n",
      "440000: Removing hit at frequency 1574.996539 from /datax/scratch/benjb/C23_L_dats_iterative/blc03_guppi_59405_73065_HIP61493_0115.rawspec.0000.dat\n",
      "460000: Removing hit at frequency 1379.775111 from /datax/scratch/benjb/C23_L_dats_iterative/blc04_guppi_59405_57552_NGC1407_0068.rawspec.0000.dat\n",
      "480000: Removing hit at frequency 1622.396766 from /datax/scratch/benjb/C23_L_dats_iterative/blc03_guppi_59405_63438_HIZSS003_0086.rawspec.0000.dat\n",
      "500000: Removing hit at frequency 1180.582691 from /datax/scratch/benjb/C23_L_dats_iterative/blc05_guppi_59884_33484_HIP7612_0013.rawspec.0000.dat\n",
      "520000: Removing hit at frequency 1532.926018 from /datax/scratch/benjb/C23_L_dats_iterative/blc03_guppi_59440_62118_NGC4318_0106.rawspec.0000.dat\n",
      "540000: Removing hit at frequency 1575.210542 from /datax/scratch/benjb/C23_L_dats_iterative/blc73_guppi_58832_13933_HIP5599_0050.gpuspec.0000.dat\n",
      "560000: Removing hit at frequency 1383.64793 from /datax/scratch/benjb/C23_L_dats_iterative/blc04_guppi_59405_68872_NGC4136_0102.rawspec.0000.dat\n",
      "580000: Removing hit at frequency 1382.570059 from /datax/scratch/benjb/C23_L_dats_iterative/blc04_guppi_59404_15123_HIP61074_0069.rawspec.0000.dat\n",
      "600000: Removing hit at frequency 1197.559806 from /datax/scratch/benjb/C23_L_dats_iterative/blc15_guppi_59902_30997_NGC4239_0078.rawspec.0000.dat\n",
      "620000: Removing hit at frequency 1568.656258 from /datax/scratch/benjb/C23_L_dats_iterative/blc03_guppi_58873_33678_HIP66774_0119.rawspec.0000.dat\n",
      "640000: Removing hit at frequency 1527.213053 from /datax/scratch/benjb/C23_L_dats_iterative/blc03_guppi_59884_36190_HIP86192_0021.rawspec.0000.dat\n",
      "660000: Removing hit at frequency 1526.907776 from /datax/scratch/benjb/C23_L_dats_iterative/spliced_blc1011121314151617_guppi_58308_24687_IC0010_0026.gpuspec.0000.dat\n",
      "680000: Removing hit at frequency 1574.339499 from /datax/scratch/benjb/C23_L_dats_iterative/blc03_guppi_58873_34315_HIP67966_0121.rawspec.0000.dat\n",
      "700000: Removing hit at frequency 1622.75452 from /datax/scratch/benjb/C23_L_dats_iterative/blc03_guppi_59440_56969_NGC4365_0090.rawspec.0000.dat\n",
      "720000: Removing hit at frequency 1176.56354 from /datax/scratch/benjb/C23_L_dats_iterative/spliced_blc1011121314151617_guppi_58308_25939_IC0010_0028.gpuspec.0000.dat\n",
      "740000: Removing hit at frequency 1176.645091 from /datax/scratch/benjb/C23_L_dats_iterative/blc05_guppi_59404_19989_NGC5194_0084.rawspec.0000.dat\n",
      "760000: Removing hit at frequency 1380.799659 from /datax/scratch/benjb/C23_L_dats_iterative/blc04_guppi_59405_45085_And_II_0030.rawspec.0000.dat\n",
      "780000: Removing hit at frequency 1381.792445 from /datax/scratch/benjb/C23_L_dats_iterative/blc04_guppi_59404_22417_HIP6575_0091.rawspec.0000.dat\n",
      "800000: Removing hit at frequency 1555.068436 from /datax/scratch/benjb/C23_L_dats_iterative/blc13_guppi_59247_06770_HIP44840_0066.rawspec.0000.dat\n",
      "820000: Removing hit at frequency 1560.651826 from /datax/scratch/benjb/C23_L_dats_iterative/blc03_guppi_59427_21786_NGC584_0106.rawspec.0000.dat\n",
      "Commencing round 2!\n",
      "1095967 hits in dataset (57.14402657485806% of original).\n",
      "Batching ...\n",
      "Running HDBSCAN on all batches ...\n",
      "0: Removing hit at frequency 1381.623041 from /datax/scratch/benjb/C23_L_dats_iterative/spliced_blc1011121314151617_guppi_58308_25939_IC0010_0028.gpuspec.0000.dat\n",
      "20000: Removing hit at frequency 1575.588468 from /datax/scratch/benjb/C23_L_dats_iterative/blc14_guppi_59247_06451_UGC04879_0065.rawspec.0000.dat\n",
      "40000: Removing hit at frequency 1172.66483 from /datax/scratch/benjb/C23_L_dats_iterative/blc05_guppi_59404_07009_NGC3344_0044.rawspec.0000.dat\n",
      "60000: Removing hit at frequency 1173.518864 from /datax/scratch/benjb/C23_L_dats_iterative/blc05_guppi_59405_53955_HIP12953_0057.rawspec.0000.dat\n",
      "80000: Removing hit at frequency 1383.419087 from /datax/scratch/benjb/C23_L_dats_iterative/blc04_guppi_59405_68872_NGC4136_0102.rawspec.0000.dat\n",
      "100000: Removing hit at frequency 1171.120497 from /datax/scratch/benjb/C23_L_dats_iterative/blc33_guppi_59076_81799_HIP55404_0037.rawspec.0000.dat\n",
      "120000: Removing hit at frequency 1382.516588 from /datax/scratch/benjb/C23_L_dats_iterative/blc04_guppi_59405_69500_NGC4136_0104.rawspec.0000.dat\n",
      "140000: Removing hit at frequency 1543.067926 from /datax/scratch/benjb/C23_L_dats_iterative/blc05_guppi_59404_14805_NGC4559_0068.rawspec.0000.dat\n",
      "160000: Removing hit at frequency 1573.991985 from /datax/scratch/benjb/C23_L_dats_iterative/blc05_guppi_59427_19806_IC1613_0100.rawspec.0000.dat\n",
      "180000: Removing hit at frequency 1574.571444 from /datax/scratch/benjb/C23_L_dats_iterative/blc05_guppi_58873_33678_HIP66774_0119.rawspec.0000.dat\n",
      "200000: Removing hit at frequency 1547.980333 from /datax/scratch/benjb/C23_L_dats_iterative/blc05_guppi_59404_01166_LeoT_0026.rawspec.0000.dat\n",
      "220000: Removing hit at frequency 1546.859575 from /datax/scratch/benjb/C23_L_dats_iterative/blc04_guppi_59404_01485_HIP47455_0027.rawspec.0000.dat\n",
      "240000: Removing hit at frequency 1198.879897 from /datax/scratch/benjb/C23_L_dats_iterative/blc05_guppi_59440_56652_HIP60272_0089.rawspec.0000.dat\n",
      "260000: Removing hit at frequency 1686.554309 from /datax/scratch/benjb/C23_L_dats_iterative/blc03_guppi_59405_48747_HIP7930_0041.rawspec.0000.dat\n",
      "280000: Removing hit at frequency 1171.339997 from /datax/scratch/benjb/C23_L_dats_iterative/blc05_guppi_59404_16750_NGC4618_0074.rawspec.0000.dat\n",
      "300000: Removing hit at frequency 1196.775522 from /datax/scratch/benjb/C23_L_dats_iterative/blc05_guppi_59404_01485_HIP47455_0027.rawspec.0000.dat\n",
      "320000: Removing hit at frequency 1178.363157 from /datax/scratch/benjb/C23_L_dats_iterative/spliced_blc5051525354555657_guppi_58892_31868_HIP52707_0015.rawspec.0000.dat\n",
      "340000: Removing hit at frequency 1564.042881 from /datax/scratch/benjb/C23_L_dats_iterative/blc04_guppi_59405_38751_HIP113495_0011.rawspec.0000.dat\n",
      "360000: Removing hit at frequency 1575.385633 from /datax/scratch/benjb/C23_L_dats_iterative/blc04_guppi_59404_27754_WLM_0106.rawspec.0000.dat\n",
      "380000: Removing hit at frequency 1576.082991 from /datax/scratch/benjb/C23_L_dats_iterative/blc03_guppi_59404_16435_HIP61678_0073.rawspec.0000.dat\n",
      "400000: Removing hit at frequency 1685.426113 from /datax/scratch/benjb/C23_L_dats_iterative/blc15_guppi_59902_31956_HIP59352_0081.rawspec.0000.dat\n",
      "Commencing round 3!\n",
      "687740 hits in dataset (35.85895637057766% of original).\n",
      "Batching ...\n",
      "Running HDBSCAN on all batches ...\n",
      "0: Removing hit at frequency 1180.045766 from /datax/scratch/benjb/C23_L_dats_iterative/blc05_guppi_58873_34315_HIP67966_0121.rawspec.0000.dat\n",
      "20000: Removing hit at frequency 1575.288618 from /datax/scratch/benjb/C23_L_dats_iterative/blc05_guppi_59884_33484_HIP7612_0013.rawspec.0000.dat\n",
      "40000: Removing hit at frequency 1574.990578 from /datax/scratch/benjb/C23_L_dats_iterative/blc75_guppi_58832_11989_HIP2596_0044.gpuspec.0000.dat\n",
      "60000: Removing hit at frequency 1382.602838 from /datax/scratch/benjb/C23_L_dats_iterative/blc75_guppi_58832_11352_HIP2514_0042.gpuspec.0000.dat\n",
      "80000: Removing hit at frequency 1160.985139 from /datax/scratch/benjb/C23_L_dats_iterative/blc05_guppi_58873_05191_HIP100701_0037.rawspec.0000.dat\n",
      "100000: Removing hit at frequency 1681.363014 from /datax/scratch/benjb/C23_L_dats_iterative/blc05_guppi_59427_11355_HIP66316_0075.rawspec.0000.dat\n",
      "120000: Removing hit at frequency 1177.011296 from /datax/scratch/benjb/C23_L_dats_iterative/blc05_guppi_59426_85793_NGC4551_0038.rawspec.0000.dat\n",
      "140000: Removing hit at frequency 1383.78104 from /datax/scratch/benjb/C23_L_dats_iterative/blc35_guppi_59077_06059_NGC4244_0070.rawspec.0000.dat\n",
      "160000: Removing hit at frequency 1602.643481 from /datax/scratch/benjb/C23_L_dats_iterative/blc05_guppi_59404_01845_NGC3193_0028.rawspec.0000.dat\n",
      "180000: Removing hit at frequency 1528.313437 from /datax/scratch/benjb/C23_L_dats_iterative/blc05_guppi_59426_85157_NGC4551_0036.rawspec.0000.dat\n",
      "Commencing round 4!\n",
      "499862 hits in dataset (26.062944789178598% of original).\n",
      "Batching ...\n",
      "Running HDBSCAN on all batches ...\n",
      "0: Removing hit at frequency 1382.402172 from /datax/scratch/benjb/C23_L_dats_iterative/blc05_guppi_59404_02164_HIP50156_0029.rawspec.0000.dat\n",
      "20000: Removing hit at frequency 1171.12954 from /datax/scratch/benjb/C23_L_dats_iterative/blc05_guppi_59405_51341_HIP9842_0049.rawspec.0000.dat\n",
      "40000: Removing hit at frequency 1175.437641 from /datax/scratch/benjb/C23_L_dats_iterative/blc35_guppi_59860_21696_HIP12543_0025.rawspec.0000.dat\n",
      "60000: Removing hit at frequency 1169.958956 from /datax/scratch/benjb/C23_L_dats_iterative/blc05_guppi_59884_38932_MESSIER86_0028.rawspec.0000.dat\n",
      "80000: Removing hit at frequency 1183.179257 from /datax/scratch/benjb/C23_L_dats_iterative/blc05_guppi_59403_86282_LeoT_0022.rawspec.0000.dat\n",
      "100000: Removing hit at frequency 1181.911558 from /datax/scratch/benjb/C23_L_dats_iterative/blc05_guppi_59405_52354_NGC1052_0052.rawspec.0000.dat\n",
      "120000: Removing hit at frequency 1601.384962 from /datax/scratch/benjb/C23_L_dats_iterative/blc15_guppi_59902_31956_HIP59352_0081.rawspec.0000.dat\n",
      "140000: Removing hit at frequency 1545.169916 from /datax/scratch/benjb/C23_L_dats_iterative/blc35_guppi_59076_81477_LeoII_0036.rawspec.0000.dat\n",
      "Commencing round 5!\n",
      "354721 hits in dataset (18.495252366777674% of original).\n",
      "Batching ...\n",
      "Running HDBSCAN on all batches ...\n",
      "0: Removing hit at frequency 1545.883876 from /datax/scratch/benjb/C23_L_dats_iterative/blc05_guppi_58873_04870_NGC6946_0036.rawspec.0000.dat\n",
      "20000: Removing hit at frequency 1175.044452 from /datax/scratch/benjb/C23_L_dats_iterative/blc05_guppi_59440_58895_NGC4434_0096.rawspec.0000.dat\n",
      "40000: Removing hit at frequency 1177.625159 from /datax/scratch/benjb/C23_L_dats_iterative/blc05_guppi_58873_38913_HIP66234_0135.rawspec.0000.dat\n",
      "60000: Removing hit at frequency 1538.372213 from /datax/scratch/benjb/C23_L_dats_iterative/blc05_guppi_59884_38932_MESSIER86_0028.rawspec.0000.dat\n",
      "Commencing round 6!\n",
      "276220 hits in dataset (14.402188223283451% of original).\n",
      "Batching ...\n",
      "Running HDBSCAN on all batches ...\n",
      "0: Removing hit at frequency 1561.405633 from /datax/scratch/benjb/C23_L_dats_iterative/blc05_guppi_59405_67827_HIP49565_0099.rawspec.0000.dat\n",
      "20000: Removing hit at frequency 1181.385968 from /datax/scratch/benjb/C23_L_dats_iterative/spliced_blc1011121314151617_guppi_58308_29213_Pegasus_off_0033.gpuspec.0000.dat\n",
      "40000: Removing hit at frequency 1625.613593 from /datax/scratch/benjb/C23_L_dats_iterative/blc15_guppi_59902_30679_HIP60152_0077.rawspec.0000.dat\n",
      "Commencing round 7!\n",
      "220727 hits in dataset (11.508767648833127% of original).\n",
      "Batching ...\n",
      "Running HDBSCAN on all batches ...\n",
      "0: Removing hit at frequency 1173.451214 from /datax/scratch/benjb/C23_L_dats_iterative/blc05_guppi_59405_46059_HIP6702_0033.rawspec.0000.dat\n",
      "20000: Removing hit at frequency 1547.67778 from /datax/scratch/benjb/C23_L_dats_iterative/blc05_guppi_59405_47419_HIP8216_0037.rawspec.0000.dat\n",
      "Commencing round 8!\n",
      "182218 hits in dataset (9.500897594925291% of original).\n",
      "Batching ...\n",
      "Running HDBSCAN on all batches ...\n",
      "0: Removing hit at frequency 1619.125115 from /datax/scratch/benjb/C23_L_dats_iterative/blc05_guppi_59426_85157_NGC4551_0036.rawspec.0000.dat\n",
      "20000: Removing hit at frequency 1382.361716 from /datax/scratch/benjb/C23_L_dats_iterative/blc16_guppi_59902_31316_HIP60355_0079.rawspec.0000.dat\n",
      "40000: Removing hit at frequency 1176.51459 from /datax/scratch/benjb/C23_L_dats_iterative/blc05_guppi_59404_11568_NGC4473_0058.rawspec.0000.dat\n"
     ]
    }
   ],
   "source": [
    "dataset_sizes = [len(hit_dats)]\n",
    "non_anom_centroids = [] # tracks idx and centroid for each non-anomalous hit\n",
    "\n",
    "stg_params = np.load('/datax/scratch/benjb/C23_L_full_injected_params.npy', allow_pickle=True)\n",
    "\n",
    "full_params = np.vstack((hit_params, stg_params)) # need to be preprocessed together for quantile transforms\n",
    "full_params_scaled, full_params_unscaled = preprocess(full_params)\n",
    "\n",
    "# separate injected hits again so they can be re-injected into each batch later\n",
    "hit_params_scaled_0 = full_params_scaled[:-10]\n",
    "print(f'Size hit_params_scaled = {len(hit_params_scaled_0)}')\n",
    "hit_params_unscaled_0 = full_params_unscaled[:-10]\n",
    "print(f'Size hit_params_unscaled = {len(hit_params_unscaled_0)}')\n",
    "stg_params_scaled = full_params_scaled[-10:]\n",
    "stg_params_unscaled = full_params_unscaled[-10:]\n",
    "\n",
    "hit_idxs = np.arange(len(hit_dats))\n",
    "\n",
    "round_idxs = np.copy(hit_idxs) # i.e. 'anomalous' idxs for the current round\n",
    "\n",
    "hit_params_scaled = hit_params_scaled_0[round_idxs] # set this in advance so the while loop doesn't immediately break\n",
    "\n",
    "round_counter = 0\n",
    "\n",
    "while len(hit_params_scaled) > 0.1 * dataset_sizes[0]:\n",
    "\n",
    "    round_counter += 1\n",
    "    print(f'Commencing round {round_counter}!')\n",
    "\n",
    "    n_batches = len(hit_dats) // 5000\n",
    "    batch_size = len(hit_dats) // n_batches  # should be approx but probably not exactly 5k\n",
    "\n",
    "    #round_idxs = hit_idxs[keep_idxs] # these are for tracking anom hits\n",
    "\n",
    "    hit_params_scaled = hit_params_scaled_0[round_idxs]\n",
    "    hit_params_unscaled = hit_params_unscaled_0[round_idxs]\n",
    "\n",
    "    print(f'{len(hit_params_scaled)} hits in dataset ({100*len(hit_params_scaled)/dataset_sizes[0]}% of original).')\n",
    "    dataset_sizes.append(len(hit_params_scaled))\n",
    "\n",
    "    hit_batches_scaled = []\n",
    "    hit_batches_unscaled = []\n",
    "    dat_batches = []\n",
    "    idx_batches = []\n",
    "\n",
    "    # shuffle hits before batching\n",
    "    idxs = np.arange(len(hit_params_scaled))\n",
    "    np.random.shuffle(idxs) \n",
    "    hit_params_scaled_shuffled = hit_params_scaled[idxs]\n",
    "    hit_params_unscaled_shuffled = hit_params_unscaled[idxs]\n",
    "    hit_dats_shuffled = hit_dats[idxs]\n",
    "    round_idxs_shuffled = round_idxs[idxs]\n",
    "\n",
    "    print('Batching ...')\n",
    "\n",
    "    # do the batching\n",
    "    for i in range(n_batches):\n",
    "\n",
    "        if i != n_batches-1:\n",
    "            batch_scaled = hit_params_scaled_shuffled[i*batch_size:(i+1)*batch_size]\n",
    "            batch_unscaled = hit_params_unscaled_shuffled[i*batch_size:(i+1)*batch_size]\n",
    "            hit_dats_batch = hit_dats_shuffled[i*batch_size:(i+1)*batch_size]\n",
    "            round_idxs_batch = round_idxs_shuffled[i*batch_size:(i+1)*batch_size]\n",
    "        else:\n",
    "            batch_scaled = hit_params_scaled_shuffled[i*batch_size:] # catch the last few entries in the final batch\n",
    "            batch_unscaled = hit_params_unscaled_shuffled[i*batch_size:]\n",
    "            hit_dats_batch = hit_dats_shuffled[i*batch_size:]\n",
    "            round_idxs_batch = round_idxs_shuffled[i*batch_size:]\n",
    "\n",
    "        hit_batches_scaled.append(batch_scaled)\n",
    "        hit_batches_unscaled.append(batch_unscaled)\n",
    "        dat_batches.append(hit_dats_batch)\n",
    "        idx_batches.append(round_idxs_batch)\n",
    "\n",
    "    print('Running HDBSCAN on all batches ...')\n",
    "\n",
    "    # do the HDBSCANning\n",
    "    nmincluster = 4\n",
    "    nminsamples = 2\n",
    "    eps = 0.17\n",
    "\n",
    "    dat_list_for_hit_deletion = np.empty((0, 2))\n",
    "    round_idxs_new = []\n",
    "\n",
    "    for i in range(len(hit_batches_scaled)):\n",
    "        #print('-----')\n",
    "        bbb_scaled = np.vstack((hit_batches_scaled[i], stg_params_scaled))\n",
    "        labels_list, centroids = batch_hdbscan(bbb_scaled, nmincluster, nminsamples, eps)\n",
    "        dat_freq_obj = np.transpose(np.array([hit_batches_unscaled[i][:,0], dat_batches[i]], dtype='object'))\n",
    "        non_anom_labels = np.array(list(\n",
    "            set(np.unique(labels_list))-set(np.unique(np.concatenate((labels_list[-10:], [-1]))))\n",
    "            ))\n",
    "        mask = np.isin(labels_list[:-10], non_anom_labels)\n",
    "        dat_freq_obj = dat_freq_obj[mask]\n",
    "        #centroids = centroids[non_anom_labels]\n",
    "\n",
    "        # track non-anomalous hits for later superclustering \n",
    "        truncated_labels_list = labels_list[:-10]\n",
    "        #print(f'Truncated labels list len {len(truncated_labels_list)}')\n",
    "        non_anom_labels_list = truncated_labels_list[mask]\n",
    "        #print(f'Non-anom labels list len {len(non_anom_labels_list)}')\n",
    "        #print(f'Non-anom labels list max {np.max(non_anom_labels_list)}')\n",
    "        #print(f'Centroids len {len(centroids)}')\n",
    "        centroids_list = centroids[non_anom_labels_list]\n",
    "        #print(f'Centroids list len {len(centroids_list)}')\n",
    "        idx_batch = idx_batches[i]\n",
    "        non_anom_idxs_in_batch = idx_batch[mask]\n",
    "        #print(f'Non-anom idxs in batch len {len(non_anom_idxs_in_batch)}')\n",
    "        for j in range(len(non_anom_idxs_in_batch)):\n",
    "            # need to be careful about indexing here\n",
    "            # [0] should be from non_anom_idxs_in_batch, not idx_batch\n",
    "            non_anom_centroids.append([non_anom_idxs_in_batch[j], centroids_list[j]])\n",
    "\n",
    "        # non-anomalous hits to be deleted\n",
    "        dat_list_for_hit_deletion = np.concatenate((dat_list_for_hit_deletion, dat_freq_obj))\n",
    "\n",
    "        # for updating round_idxs\n",
    "        keep_idxs = idx_batch[~mask] # recall that round_idxs gives the anomalous idxs for the current round\n",
    "        for ii in keep_idxs:\n",
    "            round_idxs_new.append(ii)\n",
    "\n",
    "    # after running all batches, delete non-anomalous hits\n",
    "    for i in range(len(dat_list_for_hit_deletion)):\n",
    "        freq = dat_list_for_hit_deletion[i][0]\n",
    "        dat_path = '/datax/scratch/benjb/C23_L_dats_iterative/'+os.path.basename(dat_list_for_hit_deletion[i][1])\n",
    "        if i%20000 == 0:\n",
    "            print(f'{i}: Removing hit at frequency {freq} from {dat_path}')\n",
    "\n",
    "        bytes_available = psutil.virtual_memory()[1]\n",
    "        if bytes_available <= 32e9:\n",
    "            print(f'Memory dangerously low: {bytes_available} bytes remaining. Breaking ...')\n",
    "            break\n",
    "\n",
    "        lines = []\n",
    "        for line in open(dat_path):\n",
    "            if not str(freq) in line:\n",
    "                lines.append(line)\n",
    "\n",
    "        with open(dat_path, 'w') as file:\n",
    "            file.writelines(lines)\n",
    "            file.close() # confirm whether this is truly overwriting the .dat files\n",
    "                         # perhaps with a hit count check at the beginning of the while loop\n",
    "\n",
    "    # update round_idxs\n",
    "    round_idxs = np.copy(round_idxs_new)\n",
    "        "
   ]
  },
  {
   "cell_type": "code",
   "execution_count": 116,
   "metadata": {},
   "outputs": [
    {
     "name": "stdout",
     "output_type": "stream",
     "text": [
      "1782224\n"
     ]
    }
   ],
   "source": [
    "print(len(non_anom_centroids))"
   ]
  },
  {
   "cell_type": "code",
   "execution_count": 117,
   "metadata": {},
   "outputs": [],
   "source": [
    "cci = np.array([c[0] for c in non_anom_centroids])"
   ]
  },
  {
   "cell_type": "code",
   "execution_count": 118,
   "metadata": {},
   "outputs": [
    {
     "name": "stdout",
     "output_type": "stream",
     "text": [
      "(1782224, 12)\n"
     ]
    }
   ],
   "source": [
    "ccc = np.array([c[1] for c in non_anom_centroids])\n",
    "print(ccc.shape)"
   ]
  },
  {
   "cell_type": "code",
   "execution_count": 127,
   "metadata": {},
   "outputs": [],
   "source": [
    "np.save('/datax/scratch/benjb/C23_L_non_anom_centroid_idxs.npy', cci)\n",
    "np.save('/datax/scratch/benjb/C23_L_non_anom_centroids.npy', ccc)"
   ]
  },
  {
   "cell_type": "code",
   "execution_count": null,
   "metadata": {},
   "outputs": [],
   "source": [
    "### PICK BACK UP HERE 08/29/24"
   ]
  },
  {
   "cell_type": "code",
   "execution_count": null,
   "metadata": {},
   "outputs": [],
   "source": []
  },
  {
   "cell_type": "code",
   "execution_count": 126,
   "metadata": {},
   "outputs": [
    {
     "name": "stdout",
     "output_type": "stream",
     "text": [
      "1782224\n"
     ]
    }
   ],
   "source": [
    "print(len(np.unique(cci)))"
   ]
  },
  {
   "cell_type": "code",
   "execution_count": 128,
   "metadata": {},
   "outputs": [
    {
     "name": "stdout",
     "output_type": "stream",
     "text": [
      "1917903\n"
     ]
    }
   ],
   "source": [
    "print(len(ccc)+135679)"
   ]
  },
  {
   "cell_type": "code",
   "execution_count": 120,
   "metadata": {},
   "outputs": [
    {
     "name": "stdout",
     "output_type": "stream",
     "text": [
      "135679\n"
     ]
    }
   ],
   "source": [
    "print(len(round_idxs))"
   ]
  },
  {
   "cell_type": "code",
   "execution_count": 121,
   "metadata": {},
   "outputs": [
    {
     "name": "stdout",
     "output_type": "stream",
     "text": [
      "[1917903 1095967  687740  499862  354721  276220  220727  182218  135679]\n"
     ]
    }
   ],
   "source": [
    "dat_sizes = np.array(dataset_sizes[1:])\n",
    "dat_sizes = np.concatenate((dat_sizes, [135679]))\n",
    "print(dat_sizes)"
   ]
  },
  {
   "cell_type": "code",
   "execution_count": 122,
   "metadata": {},
   "outputs": [
    {
     "name": "stdout",
     "output_type": "stream",
     "text": [
      "[100.          57.14402657  35.85895637  26.06294479  18.49525237\n",
      "  14.40218822  11.50876765   9.50089759   7.07434109]\n"
     ]
    }
   ],
   "source": [
    "yyyy = 100*dat_sizes/dat_sizes[0]\n",
    "print(yyyy)"
   ]
  },
  {
   "cell_type": "code",
   "execution_count": 124,
   "metadata": {},
   "outputs": [
    {
     "data": {
      "image/png": "[encoded data removed]",
      "text/plain": [
       "<Figure size 640x480 with 1 Axes>"
      ]
     },
     "metadata": {},
     "output_type": "display_data"
    }
   ],
   "source": [
    "xxx = np.arange(9)\n",
    "#yyy = 100*dat_sizes/dat_sizes[0]\n",
    "plt.plot(xxx, yyyy, 'o-', color='k', markersize=7, label='empirical')\n",
    "#plt.plot(np.linspace(0,8,100), 10**p(np.log10(np.linspace(1,9,100))), color='r', label='power law fit')\n",
    "plt.grid()\n",
    "plt.yticks([10,20,30,40,50,60,70,80,90,100])\n",
    "plt.xlabel('HDBSCAN epoch', size=13)\n",
    "plt.ylabel(r'anomalous hits [% of original]', size=13)\n",
    "#plt.legend()\n",
    "#plt.ylim(2,108)\n",
    "plt.savefig('/datax/scratch/benjb/C23_L_hit_reduction_by_epoch_2.pdf', bbox_inches='tight')\n",
    "plt.show()"
   ]
  },
  {
   "cell_type": "code",
   "execution_count": 72,
   "metadata": {},
   "outputs": [
    {
     "data": {
      "image/png": "[encoded data removed]",
      "text/plain": [
       "<Figure size 640x480 with 1 Axes>"
      ]
     },
     "metadata": {},
     "output_type": "display_data"
    }
   ],
   "source": [
    "plt.plot(np.log10(xxx+1), np.log10(yyy), 'o-', color='k', markersize=7)\n",
    "z = np.polyfit(np.log10(xxx+1), np.log10(yyy), 1)\n",
    "p = np.poly1d(z)\n",
    "plt.plot(np.log10(xxx+1), p(np.log10(xxx+1)), color='r')\n",
    "plt.show()"
   ]
  },
  {
   "cell_type": "code",
   "execution_count": 73,
   "metadata": {},
   "outputs": [
    {
     "name": "stdout",
     "output_type": "stream",
     "text": [
      "[-1.16070807  2.05170783]\n"
     ]
    }
   ],
   "source": [
    "print(z)"
   ]
  },
  {
   "cell_type": "code",
   "execution_count": 97,
   "metadata": {},
   "outputs": [
    {
     "name": "stdout",
     "output_type": "stream",
     "text": [
      "[100.          54.0537243   33.90604217  23.65458524  18.4049454\n",
      "  14.27726011  11.92218793   9.46695427   7.99732833]\n"
     ]
    }
   ],
   "source": [
    "print(yyy)"
   ]
  },
  {
   "cell_type": "code",
   "execution_count": 74,
   "metadata": {},
   "outputs": [],
   "source": [
    "a = np.log10(2.05170783)\n",
    "b = -1.16070807"
   ]
  },
  {
   "cell_type": "code",
   "execution_count": 125,
   "metadata": {},
   "outputs": [
    {
     "name": "stdout",
     "output_type": "stream",
     "text": [
      "0.4285597342514194\n",
      "0.3724811057267235\n",
      "0.273181725652136\n",
      "0.2903621399506264\n",
      "0.22130350331669116\n",
      "0.20090145536166826\n",
      "0.17446438360508676\n",
      "0.2554028690908692\n"
     ]
    }
   ],
   "source": [
    "reds = []\n",
    "\n",
    "for i in range(len(xxx)-1):\n",
    "    curr = yyyy[i]\n",
    "    foll = yyyy[i+1]\n",
    "    #print(curr, foll)\n",
    "    reduction = (curr-foll) / curr\n",
    "    print(reduction)\n",
    "    reds.append(reduction)"
   ]
  },
  {
   "cell_type": "code",
   "execution_count": 96,
   "metadata": {},
   "outputs": [
    {
     "data": {
      "image/png": "[encoded data removed]",
      "text/plain": [
       "<Figure size 640x480 with 1 Axes>"
      ]
     },
     "metadata": {},
     "output_type": "display_data"
    }
   ],
   "source": [
    "plt.plot(np.array(reds)*100, 'o-', color='k')\n",
    "plt.ylim(0,100)\n",
    "plt.show()"
   ]
  },
  {
   "cell_type": "code",
   "execution_count": 89,
   "metadata": {},
   "outputs": [
    {
     "name": "stdout",
     "output_type": "stream",
     "text": [
      "0.46\n",
      "0.37037037037037035\n"
     ]
    }
   ],
   "source": [
    "print((100-54)/100)\n",
    "print((54-34)/54)"
   ]
  },
  {
   "cell_type": "code",
   "execution_count": 63,
   "metadata": {},
   "outputs": [
    {
     "name": "stdout",
     "output_type": "stream",
     "text": [
      "[0 1 2 3 4 5 6 7 8]\n",
      "[100.          54.0537243   33.90604217  23.65458524  18.4049454\n",
      "  14.27726011  11.92218793   9.46695427   7.99732833]\n"
     ]
    }
   ],
   "source": [
    "print(xxx)\n",
    "print(yyy)"
   ]
  },
  {
   "cell_type": "code",
   "execution_count": 49,
   "metadata": {},
   "outputs": [
    {
     "name": "stdout",
     "output_type": "stream",
     "text": [
      "[1.         0.54053724 0.33906042 0.23654585 0.18404945 0.1427726\n",
      " 0.11922188 0.09466954]\n",
      "[1.         0.58       0.3364     0.195112   0.11316496 0.06563568\n",
      " 0.03806869 0.02207984]\n"
     ]
    }
   ],
   "source": [
    "print(dat_sizes/dat_sizes[0])\n",
    "print(np.array([0.58**x for x in np.arange(8)]))"
   ]
  },
  {
   "cell_type": "code",
   "execution_count": 10,
   "metadata": {},
   "outputs": [
    {
     "name": "stdout",
     "output_type": "stream",
     "text": [
      "[False  True  True False  True False  True False False False  True False]\n",
      "[ True False False  True False  True False  True  True  True False  True]\n"
     ]
    }
   ],
   "source": [
    "a = [2, 3, 5, 7, 11]\n",
    "b = [1, 2, 3, 4, 5, 6, 7, 8, 9, 10, 11, 12]\n",
    "\n",
    "mask = np.isin(b, a)\n",
    "print(mask)\n",
    "print(~mask)"
   ]
  },
  {
   "cell_type": "code",
   "execution_count": 13,
   "metadata": {},
   "outputs": [
    {
     "name": "stdout",
     "output_type": "stream",
     "text": [
      "[ 1  4  6  8  9 10 12]\n"
     ]
    }
   ],
   "source": [
    "print(np.array(b)[mask])"
   ]
  },
  {
   "cell_type": "code",
   "execution_count": null,
   "metadata": {},
   "outputs": [],
   "source": []
  }
 ],
 "metadata": {
  "kernelspec": {
   "display_name": "sklearn-env",
   "language": "python",
   "name": "python3"
  },
  "language_info": {
   "codemirror_mode": {
    "name": "ipython",
    "version": 3
   },
   "file_extension": ".py",
   "mimetype": "text/x-python",
   "name": "python",
   "nbconvert_exporter": "python",
   "pygments_lexer": "ipython3",
   "version": "3.12.4"
  }
 },
 "nbformat": 4,
 "nbformat_minor": 2
}
