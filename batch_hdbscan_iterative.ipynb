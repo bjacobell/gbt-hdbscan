{
 "cells": [
  {
   "cell_type": "code",
   "execution_count": 1,
   "metadata": {},
   "outputs": [],
   "source": [
    "# This notebook is for writing a script that iteratively batches a dataset, applies HDBSCAN, pools the anomalies,\n",
    "# then does it over again.\n",
    "\n",
    "# Differences from batch_hdbscan.ipynb:\n",
    "#\n",
    "#  -  This notebook must keep track of non-anomalous clusters as well as anomalies,\n",
    "#       and we must find a decent way to match them to each other across batches.\n",
    "#\n",
    "#  -  This notebook must get rid of the day-long process in retrieve_anomalous_hits.ipynb.\n",
    "#       This will be done by assigning hits indices that are carried around with them as they\n",
    "#       get batched and shuffled.\n",
    "#\n",
    "#  -  At the end, we should have:\n",
    "#       (a) a list of anomalous hits, ideally no more than 10% of the initial dataset, which\n",
    "#           can be passed through FindEvent for interesting results\n",
    "#       (b) a list of RFI classes, which can be plotted in PDF form to demonstrate the efficacy\n",
    "#           of the clustering\n",
    "\n",
    "import glob\n",
    "import numpy as np\n",
    "import matplotlib.pyplot as plt\n",
    "import matplotlib.cm as cm\n",
    "import pandas as pd\n",
    "from scipy.stats import skew, kurtosis, norm, mode\n",
    "from sklearn.cluster import DBSCAN, HDBSCAN\n",
    "from sklearn.preprocessing import quantile_transform\n",
    "import psutil\n",
    "import shutil\n",
    "import os\n",
    "%matplotlib inline"
   ]
  },
  {
   "cell_type": "code",
   "execution_count": 4,
   "metadata": {},
   "outputs": [
    {
     "name": "stdout",
     "output_type": "stream",
     "text": [
      "(8809, 13)\n",
      "(8809, 2)\n"
     ]
    }
   ],
   "source": [
    "m31_params = np.load('/datax/scratch/benjb/C23_L_M31_injections/M31_retrieval_all_13_params_cut.npy', allow_pickle=True)\n",
    "m31_dat_paths = np.load('/datax/scratch/benjb/C23_L_M31_injections/M31_retrieval_all_dat_paths.npy', allow_pickle=True)\n",
    "print(m31_params.shape)\n",
    "m31_dat_paths = m31_dat_paths[np.where(\n",
    "    (m31_dat_paths[:,0] > 1100) & (m31_dat_paths[:,0] < 1200) |\n",
    "    (m31_dat_paths[:,0] > 1340) & (m31_dat_paths[:,0] < 1900)\n",
    ")[0]]\n",
    "print(m31_dat_paths.shape)"
   ]
  },
  {
   "cell_type": "code",
   "execution_count": 40,
   "metadata": {},
   "outputs": [
    {
     "data": {
      "text/plain": [
       "0.0"
      ]
     },
     "execution_count": 40,
     "metadata": {},
     "output_type": "execute_result"
    }
   ],
   "source": [
    "np.min(m31_params[:,11])"
   ]
  },
  {
   "cell_type": "code",
   "execution_count": 43,
   "metadata": {},
   "outputs": [],
   "source": [
    "bws = []\n",
    "for i in m31_params[:,11]:\n",
    "    if i == 0:\n",
    "        i += 2.7939677238464355e-06\n",
    "    bws.append(i)"
   ]
  },
  {
   "cell_type": "code",
   "execution_count": 47,
   "metadata": {},
   "outputs": [
    {
     "name": "stdout",
     "output_type": "stream",
     "text": [
      "-5.553778615199773\n"
     ]
    }
   ],
   "source": [
    "print(np.log10(2.7939677238464355e-06))"
   ]
  },
  {
   "cell_type": "code",
   "execution_count": 48,
   "metadata": {},
   "outputs": [
    {
     "data": {
      "image/png": "[encoded data removed]",
      "text/plain": [
       "<Figure size 640x480 with 1 Axes>"
      ]
     },
     "metadata": {},
     "output_type": "display_data"
    }
   ],
   "source": [
    "plt.hist(np.log10(np.array(bws)), bins=50)\n",
    "plt.yscale(\"log\")\n",
    "plt.show()"
   ]
  },
  {
   "cell_type": "code",
   "execution_count": 37,
   "metadata": {},
   "outputs": [
    {
     "data": {
      "image/png": "[encoded data removed]",
      "text/plain": [
       "<Figure size 640x480 with 1 Axes>"
      ]
     },
     "metadata": {},
     "output_type": "display_data"
    }
   ],
   "source": [
    "plt.hist(m31_params[:,0], bins=50)\n",
    "plt.yscale('log')\n",
    "plt.show()"
   ]
  },
  {
   "cell_type": "code",
   "execution_count": 44,
   "metadata": {},
   "outputs": [
    {
     "name": "stdout",
     "output_type": "stream",
     "text": [
      "[1.68146885e+03 2.86990000e-02 3.29416120e+01 9.31937027e+00\n",
      " 1.15415243e+02 7.61170364e-01 9.64737568e-01 1.00000000e-01\n",
      " 5.58788657e-01 4.29381520e-01 6.15602992e-02 2.23517418e-05\n",
      " 6.25198122e+00]\n",
      "[1681.46885\n",
      " '/datax/scratch/benjb/C23_L_M31_injections/blc73_guppi_58832_16209_MESSIER031_0057.gpuspec.0000.dat']\n"
     ]
    }
   ],
   "source": [
    "print(m31_params[100])\n",
    "print(m31_dat_paths[100])"
   ]
  },
  {
   "cell_type": "code",
   "execution_count": 45,
   "metadata": {},
   "outputs": [
    {
     "name": "stdout",
     "output_type": "stream",
     "text": [
      "1917903\n",
      "8513\n"
     ]
    }
   ],
   "source": [
    "hit_params = np.load('/datax/scratch/benjb/C23_L_unique_param_array.npy', allow_pickle=True)\n",
    "hit_dats = np.load('/datax/scratch/benjb/C23_L_unique_dat_list.npy', allow_pickle=True)[:,1]\n",
    "print(len(hit_dats))\n",
    "\n",
    "ff = []\n",
    "counter = 0\n",
    "for i, dat in enumerate(hit_dats):\n",
    "    if 'MESSIER031' in dat:\n",
    "        if ('blc72' in dat) | ('blc73' in dat) | ('blc74' in dat) | ('blc75' in dat):\n",
    "            counter += 1\n",
    "            ff.append(hit_params[i,0])\n",
    "print(counter)"
   ]
  },
  {
   "cell_type": "code",
   "execution_count": 3,
   "metadata": {},
   "outputs": [
    {
     "name": "stdout",
     "output_type": "stream",
     "text": [
      "(3247546, 2)\n",
      "(3247546,)\n"
     ]
    }
   ],
   "source": [
    "batch_1_dat_paths = np.load('/datax/scratch/benjb/batch_1_dat_paths.npy', allow_pickle=True)\n",
    "batch_2_dat_paths = np.load('/datax/scratch/benjb/batch_2_dat_paths.npy', allow_pickle=True)\n",
    "batch_3_dat_paths = np.load('/datax/scratch/benjb/batch_3_dat_paths.npy', allow_pickle=True)\n",
    "batch_4_dat_paths = np.load('/datax/scratch/benjb/batch_4_dat_paths.npy', allow_pickle=True)\n",
    "batch_5_dat_paths = np.load('/datax/scratch/benjb/batch_5_dat_paths.npy', allow_pickle=True)\n",
    "batch_6_dat_paths = np.load('/datax/scratch/benjb/batch_6_dat_paths.npy', allow_pickle=True)\n",
    "all_batch_dats = np.concatenate([batch_1_dat_paths,\n",
    "                                batch_2_dat_paths,\n",
    "                                batch_3_dat_paths,\n",
    "                                batch_4_dat_paths,\n",
    "                                batch_5_dat_paths,\n",
    "                                batch_6_dat_paths])\n",
    "\n",
    "batch_1_rednesses = np.load('/datax/scratch/benjb/batch_1_rednesses.npy', allow_pickle=True)\n",
    "batch_2_rednesses = np.load('/datax/scratch/benjb/batch_2_rednesses.npy', allow_pickle=True)\n",
    "batch_3_rednesses = np.load('/datax/scratch/benjb/batch_3_rednesses.npy', allow_pickle=True)\n",
    "batch_4_rednesses = np.load('/datax/scratch/benjb/batch_4_rednesses.npy', allow_pickle=True)\n",
    "batch_5_rednesses = np.load('/datax/scratch/benjb/batch_5_rednesses.npy', allow_pickle=True)\n",
    "batch_6_rednesses = np.load('/datax/scratch/benjb/batch_6_rednesses.npy', allow_pickle=True)\n",
    "all_batch_rednesses = np.concatenate(np.concatenate([batch_1_rednesses,\n",
    "                                batch_2_rednesses,\n",
    "                                batch_3_rednesses,\n",
    "                                batch_4_rednesses,\n",
    "                                batch_5_rednesses,\n",
    "                                batch_6_rednesses]))\n",
    "\n",
    "print(all_batch_dats.shape)\n",
    "print(all_batch_rednesses.shape)"
   ]
  },
  {
   "cell_type": "code",
   "execution_count": 4,
   "metadata": {},
   "outputs": [
    {
     "name": "stdout",
     "output_type": "stream",
     "text": [
      "(1917903,)\n"
     ]
    }
   ],
   "source": [
    "print(np.unique(all_batch_rednesses[\n",
    "    np.where(\n",
    "        (all_batch_dats[:,0] > 1100) & (all_batch_dats[:,0] < 1200) |\n",
    "    (all_batch_dats[:,0] > 1340) & (all_batch_dats[:,0] < 1900)\n",
    "    )[0]\n",
    "]).shape)"
   ]
  },
  {
   "cell_type": "code",
   "execution_count": 64,
   "metadata": {},
   "outputs": [
    {
     "name": "stdout",
     "output_type": "stream",
     "text": [
      "(3247546, 9)\n",
      "(3247546, 3)\n",
      "(3247712, 2)\n"
     ]
    }
   ],
   "source": [
    "batch_1_params = np.load('/datax/scratch/benjb/C23_L_batch_1_params.npy', allow_pickle=True)\n",
    "batch_2_params = np.load('/datax/scratch/benjb/C23_L_batch_2_params.npy', allow_pickle=True)\n",
    "batch_3_params = np.load('/datax/scratch/benjb/C23_L_batch_3_params.npy', allow_pickle=True)\n",
    "batch_4_params = np.load('/datax/scratch/benjb/C23_L_batch_4_params.npy', allow_pickle=True)\n",
    "batch_5_params = np.load('/datax/scratch/benjb/C23_L_batch_5_params.npy', allow_pickle=True)\n",
    "batch_6_params = np.load('/datax/scratch/benjb/C23_L_batch_6_params.npy', allow_pickle=True)\n",
    "all_batch_params = np.concatenate(np.concatenate([batch_1_params,\n",
    "                                batch_2_params,\n",
    "                                batch_3_params,\n",
    "                                batch_4_params,\n",
    "                                batch_5_params,\n",
    "                                batch_6_params]))\n",
    "print(all_batch_params.shape)\n",
    "\n",
    "batch_1_triad = np.load('/datax/scratch/benjb/batch_1_triad.npy', allow_pickle=True)\n",
    "batch_2_triad = np.load('/datax/scratch/benjb/batch_2_triad.npy', allow_pickle=True)\n",
    "batch_3_triad = np.load('/datax/scratch/benjb/batch_3_triad.npy', allow_pickle=True)\n",
    "batch_4_triad = np.load('/datax/scratch/benjb/batch_4_triad.npy', allow_pickle=True)\n",
    "batch_5_triad = np.load('/datax/scratch/benjb/batch_5_triad.npy', allow_pickle=True)\n",
    "batch_6_triad = np.load('/datax/scratch/benjb/batch_6_triad.npy', allow_pickle=True)\n",
    "all_batch_triad = np.concatenate([batch_1_triad,\n",
    "                                batch_2_triad,\n",
    "                                batch_3_triad,\n",
    "                                batch_4_triad,\n",
    "                                batch_5_triad,\n",
    "                                batch_6_triad])\n",
    "print(all_batch_triad.shape)\n",
    "\n",
    "batch_1_sigbws = np.load('/datax/scratch/benjb/batch_1_sigbws.npy', allow_pickle=True)\n",
    "batch_2_sigbws = np.load('/datax/scratch/benjb/batch_2_sigbws.npy', allow_pickle=True)\n",
    "batch_3_sigbws = np.load('/datax/scratch/benjb/batch_3_sigbws.npy', allow_pickle=True)\n",
    "batch_4_sigbws = np.load('/datax/scratch/benjb/batch_4_sigbws.npy', allow_pickle=True)\n",
    "batch_5_sigbws = np.load('/datax/scratch/benjb/batch_5_sigbws.npy', allow_pickle=True)\n",
    "batch_6_sigbws = np.load('/datax/scratch/benjb/batch_6_sigbws.npy', allow_pickle=True)\n",
    "all_batch_sigbws = np.concatenate([\n",
    "    batch_1_sigbws,\n",
    "    batch_2_sigbws,\n",
    "    batch_3_sigbws,\n",
    "    batch_4_sigbws,\n",
    "    batch_5_sigbws,\n",
    "    batch_6_sigbws\n",
    "])\n",
    "print(all_batch_sigbws.shape)"
   ]
  },
  {
   "cell_type": "code",
   "execution_count": 75,
   "metadata": {},
   "outputs": [
    {
     "name": "stdout",
     "output_type": "stream",
     "text": [
      "[0. 0. 0. ... 0. 0. 0.]\n",
      "2186146\n",
      "166\n"
     ]
    },
    {
     "data": {
      "image/png": "[encoded data removed]",
      "text/plain": [
       "<Figure size 640x480 with 1 Axes>"
      ]
     },
     "metadata": {},
     "output_type": "display_data"
    }
   ],
   "source": [
    "sbws = all_batch_sigbws[np.where(\n",
    "    (all_batch_sigbws[:,0] > 1100.0) & (all_batch_sigbws[:,0] < 1200) |\n",
    "    (all_batch_sigbws[:,0] > 1340) & (all_batch_sigbws[:,0] < 1900)\n",
    ")]\n",
    "fpa = np.load('/datax/scratch/benjb/C23_L_full_param_array.npy', allow_pickle=True)\n",
    "ufpa = np.unique(fpa, axis=0)\n",
    "print(ufpa[:,0]-u[:,0])\n",
    "print(len(sbws))\n",
    "print(712-546)\n",
    "plt.hist(fpa[:,11])\n",
    "plt.yscale('log')\n",
    "plt.show()"
   ]
  },
  {
   "cell_type": "code",
   "execution_count": 76,
   "metadata": {},
   "outputs": [
    {
     "data": {
      "text/plain": [
       "0.0"
      ]
     },
     "execution_count": 76,
     "metadata": {},
     "output_type": "execute_result"
    }
   ],
   "source": [
    "np.max(ufpa[:,0]-u[:,0])"
   ]
  },
  {
   "cell_type": "code",
   "execution_count": 46,
   "metadata": {},
   "outputs": [
    {
     "name": "stdout",
     "output_type": "stream",
     "text": [
      "(1917903, 13)\n",
      "(1917903, 2)\n"
     ]
    }
   ],
   "source": [
    "full_param_array_uncut = np.hstack((all_batch_triad, \n",
    "                                    all_batch_params, \n",
    "                                    np.transpose([all_batch_rednesses]) \n",
    "                                    #np.transpose([all_batch_dats[:,1]])\n",
    "))\n",
    "full_param_array_cut = full_param_array_uncut[np.where(\n",
    "        (full_param_array_uncut[:,0] > 1100) & (full_param_array_uncut[:,0] < 1200) |\n",
    "    (full_param_array_uncut[:,0] > 1340) & (full_param_array_uncut[:,0] < 1900)\n",
    "    )[0]]\n",
    "\n",
    "u, ind = np.unique(full_param_array_cut, axis=0, return_index=True)\n",
    "#u = u[np.argsort(ind)]\n",
    "cdats = all_batch_dats[np.where(\n",
    "        (full_param_array_uncut[:,0] > 1100) & (full_param_array_uncut[:,0] < 1200) |\n",
    "    (full_param_array_uncut[:,0] > 1340) & (full_param_array_uncut[:,0] < 1900)\n",
    "    )[0]]\n",
    "udats = cdats[ind]\n",
    "\n",
    "print(u.shape)\n",
    "print(udats.shape)"
   ]
  },
  {
   "cell_type": "code",
   "execution_count": 47,
   "metadata": {},
   "outputs": [
    {
     "name": "stdout",
     "output_type": "stream",
     "text": [
      "0.0\n"
     ]
    }
   ],
   "source": [
    "print(np.max(u[:,0]-udats[:,0]))"
   ]
  },
  {
   "cell_type": "code",
   "execution_count": 22,
   "metadata": {},
   "outputs": [
    {
     "name": "stdout",
     "output_type": "stream",
     "text": [
      "(1917903, 13)\n",
      "[1100.004972 1100.004978 1100.005 ... 1899.721451 1899.745331 1899.815815]\n"
     ]
    }
   ],
   "source": [
    "print(u.shape)\n",
    "print(udats[:,0])"
   ]
  },
  {
   "cell_type": "code",
   "execution_count": 77,
   "metadata": {},
   "outputs": [
    {
     "data": {
      "image/png": "[encoded data removed]",
      "text/plain": [
       "<Figure size 640x480 with 1 Axes>"
      ]
     },
     "metadata": {},
     "output_type": "display_data"
    },
    {
     "data": {
      "image/png": "[encoded data removed]",
      "text/plain": [
       "<Figure size 640x480 with 1 Axes>"
      ]
     },
     "metadata": {},
     "output_type": "display_data"
    }
   ],
   "source": [
    "plt.hist(u[:,11], bins=50)\n",
    "plt.yscale('log')\n",
    "plt.show()\n",
    "u[:,11] = ufpa[:,11]\n",
    "plt.hist(u[:,11], bins=50)\n",
    "plt.yscale('log')\n",
    "plt.show()"
   ]
  },
  {
   "cell_type": "code",
   "execution_count": 79,
   "metadata": {},
   "outputs": [],
   "source": [
    "np.save('/datax/scratch/benjb/C23_L_full_13_params_array.npy', u)\n",
    "np.save('/datax/scratch/benjb/C23_L_full_13_params_dats.npy', udats)"
   ]
  },
  {
   "cell_type": "code",
   "execution_count": 2,
   "metadata": {},
   "outputs": [],
   "source": [
    "# START HERE WEDNESDAY OCT 30\n",
    "u = np.load('/datax/scratch/benjb/C23_L_full_13_params_array.npy', allow_pickle=True)\n",
    "udats = np.load('/datax/scratch/benjb/C23_L_full_13_params_dats.npy', allow_pickle=True)"
   ]
  },
  {
   "cell_type": "code",
   "execution_count": 3,
   "metadata": {},
   "outputs": [
    {
     "name": "stdout",
     "output_type": "stream",
     "text": [
      "(1909390, 13)\n"
     ]
    }
   ],
   "source": [
    "params_without_m31 = []\n",
    "dats_without_m31 = []\n",
    "m31_excised = []\n",
    "\n",
    "for i, dat in enumerate(udats[:,1]):\n",
    "    if 'MESSIER031' in dat:\n",
    "        if ('blc72' in dat) | ('blc73' in dat) | ('blc74' in dat) | ('blc75' in dat):\n",
    "            m31_excised.append(u[i])\n",
    "            continue\n",
    "    params_without_m31.append(u[i])\n",
    "    dats_without_m31.append(dat)\n",
    "\n",
    "print(np.array(params_without_m31).shape)"
   ]
  },
  {
   "cell_type": "code",
   "execution_count": 5,
   "metadata": {},
   "outputs": [
    {
     "name": "stdout",
     "output_type": "stream",
     "text": [
      "(1918199, 13)\n",
      "(1918199,)\n"
     ]
    }
   ],
   "source": [
    "hit_params = np.vstack((np.array(params_without_m31), m31_params))\n",
    "hit_dats = np.concatenate((np.array(dats_without_m31), m31_dat_paths[:,1]))\n",
    "print(hit_params.shape)\n",
    "print(hit_dats.shape)"
   ]
  },
  {
   "cell_type": "code",
   "execution_count": 47,
   "metadata": {},
   "outputs": [
    {
     "data": {
      "image/png": "[encoded data removed]",
      "text/plain": [
       "<Figure size 640x480 with 1 Axes>"
      ]
     },
     "metadata": {},
     "output_type": "display_data"
    }
   ],
   "source": [
    "plt.hist(trimmed_m31_params[:,0], bins=50, histtype='step', range=(1100, 1900))\n",
    "plt.hist(ff, bins=50, histtype='step', range=(1100, 1900))\n",
    "plt.axvline(1126.4648451469839, color='k')\n",
    "plt.axvline(1313.9648451469839, color='k')\n",
    "plt.axvline(1501.4648451469839, color='k')\n",
    "plt.axvline(1688.9648451469839, color='k')\n",
    "plt.axvline(1876.4648423530161, color='k')\n",
    "plt.text(1313.9648451469839-187.5/2, 2500, 'blc75', horizontalalignment='center', verticalalignment='center')\n",
    "plt.text(1501.4648451469839-187.5/2, 2500, 'blc74', horizontalalignment='center', verticalalignment='center')\n",
    "plt.text(1688.9648451469839-187.5/2, 2500, 'blc73', horizontalalignment='center', verticalalignment='center')\n",
    "plt.text(1876.4648423530161-187.5/2, 2500, 'blc72', horizontalalignment='center', verticalalignment='center')\n",
    "plt.ylabel('hit counts')\n",
    "plt.xlabel('frequency [MHz]')\n",
    "plt.title('Messier 31 observations')\n",
    "#plt.yscale('log')\n",
    "plt.show()"
   ]
  },
  {
   "cell_type": "code",
   "execution_count": 6,
   "metadata": {},
   "outputs": [],
   "source": [
    "def preprocess(data):\n",
    "\n",
    "    freqs = data[:,0]\n",
    "    drifts = data[:,1]\n",
    "    snrs = data[:,2]\n",
    "    skews = data[:,3]\n",
    "    kurts = data[:,4]\n",
    "    sarles = data[:,5]\n",
    "    corrs = data[:,6]\n",
    "    tbws = data[:,7]\n",
    "    tskews = data[:,8]\n",
    "    tstds = data[:,9]\n",
    "    fstds = data[:,10]\n",
    "    sigbws = data[:,11]\n",
    "    reds = data[:,12]\n",
    "\n",
    "    normal_drifts = quantile_transform(drifts.reshape(len(drifts), 1), n_quantiles=100000, \n",
    "                                   output_distribution='normal', subsample=100000)\n",
    "    normal_drifts = normal_drifts.reshape(len(normal_drifts))\n",
    "\n",
    "    data_arr = np.array([np.argsort(np.argsort(freqs))/len(freqs),\n",
    "                        #0.1*(freqs-np.min(freqs))/np.max(freqs-np.min(freqs)), \n",
    "                        np.abs(normal_drifts)/np.max(np.abs(normal_drifts)), \n",
    "                        (np.log10(snrs)-np.min(np.log10(snrs)))/np.max(np.log10(snrs)-np.min(np.log10(snrs))), \n",
    "                        (skews-np.min(skews))/np.max((skews-np.min(skews))), \n",
    "                        (np.log10(kurts)-np.min(np.log10(kurts)))/np.max(np.log10(kurts)-np.min(np.log10(kurts))), \n",
    "                        sarles, \n",
    "                        corrs, \n",
    "                        (np.log10(tbws*1e6)-np.min(np.log10(tbws*1e6)))/np.max(np.log10(tbws*1e6)-np.min(np.log10(tbws*1e6))),\n",
    "                        (tskews-np.min(tskews))/np.max((tskews-np.min(tskews))),\n",
    "                        (np.log10(tstds)-np.min(np.log10(tstds))),\n",
    "                        (np.log10(fstds)-np.min(np.log10(fstds))),\n",
    "                        sigbws/np.max(sigbws),\n",
    "                        (np.log10(reds)-np.min(np.log10(reds)))/(np.max(np.log10(reds))-np.min(np.log10(reds)))\n",
    "                        ])  ### PRE-PROCESSED FOR HDBSCAN\n",
    "\n",
    "    data_arr_unscaled = np.array([freqs, \n",
    "                        drifts, \n",
    "                        snrs, \n",
    "                        skews, \n",
    "                        kurts, \n",
    "                        sarles, \n",
    "                        corrs, \n",
    "                        tbws*1e6, # units of Hz\n",
    "                        tskews,\n",
    "                        tstds,\n",
    "                        fstds,\n",
    "                        sigbws*1e6, # units of Hz\n",
    "                        reds\n",
    "                        ])\n",
    "\n",
    "    return np.transpose(data_arr), np.transpose(data_arr_unscaled)\n",
    "\n",
    "def batch_hdbscan(batch_arr_scaled, nmincluster, nminsamples, eps):\n",
    "\n",
    "    hdb = HDBSCAN(\n",
    "        min_cluster_size=nmincluster, \n",
    "        min_samples=nminsamples, \n",
    "        cluster_selection_epsilon=eps, \n",
    "        #metric = 'haversine',\n",
    "        leaf_size=40,\n",
    "        n_jobs=10,\n",
    "        cluster_selection_method='eom',\n",
    "        store_centers='centroid')\n",
    "    \n",
    "    X = batch_arr_scaled\n",
    "    hdb.fit(X)\n",
    "\n",
    "    labels_list = hdb.labels_\n",
    "    centroids = hdb.centroids_\n",
    "\n",
    "    return labels_list, centroids"
   ]
  },
  {
   "cell_type": "code",
   "execution_count": null,
   "metadata": {},
   "outputs": [],
   "source": []
  },
  {
   "cell_type": "code",
   "execution_count": 114,
   "metadata": {},
   "outputs": [],
   "source": [
    "#hit_params = np.load('/datax/scratch/benjb/C23_L_unique_param_array.npy', allow_pickle=True)\n",
    "#hit_dats = np.load('/datax/scratch/benjb/C23_L_unique_dat_list.npy', allow_pickle=True)[:,1]\n"
   ]
  },
  {
   "cell_type": "code",
   "execution_count": 55,
   "metadata": {},
   "outputs": [
    {
     "name": "stdout",
     "output_type": "stream",
     "text": [
      "1918199\n"
     ]
    }
   ],
   "source": [
    "print(len(hit_params))"
   ]
  },
  {
   "cell_type": "code",
   "execution_count": 56,
   "metadata": {},
   "outputs": [],
   "source": [
    "for dat in np.unique(hit_dats):\n",
    "    shutil.copy(dat, '/datax/scratch/benjb/C23_L_M31_injections/HDBSCAN/')"
   ]
  },
  {
   "cell_type": "code",
   "execution_count": 7,
   "metadata": {},
   "outputs": [
    {
     "name": "stdout",
     "output_type": "stream",
     "text": [
      "3585\n"
     ]
    }
   ],
   "source": [
    "m81_reds = np.load('/datax/scratch/benjb/C23_L_M81_injections/M81_retrieval_rednesses.npy', allow_pickle=True)[0]\n",
    "print(len(m81_reds))"
   ]
  },
  {
   "cell_type": "code",
   "execution_count": 8,
   "metadata": {},
   "outputs": [
    {
     "name": "stdout",
     "output_type": "stream",
     "text": [
      "(100, 13)\n"
     ]
    },
    {
     "name": "stderr",
     "output_type": "stream",
     "text": [
      "<>:4: SyntaxWarning: invalid escape sequence '\\s'\n",
      "<>:4: SyntaxWarning: invalid escape sequence '\\s'\n",
      "/tmp/ipykernel_1447832/2062051969.py:4: SyntaxWarning: invalid escape sequence '\\s'\n",
      "  df = pd.read_table(dat, sep='\\s+', names=['Top_Hit_#','Drift_Rate','SNR','Uncorrected_Frequency','Corrected_Frequency',\n"
     ]
    }
   ],
   "source": [
    "m81_params = np.load('/datax/scratch/benjb/C23_L_M81_injections/M81_retrieval_all_params.npy', allow_pickle=True)[0]\n",
    "stg_idxs = np.load('/datax/scratch/benjb/C23_L_M81_injections/idxs_of_injections_in_dat.npy', allow_pickle=True)\n",
    "dat = glob.glob('/datax/scratch/benjb/C23_L_M81_injections/*.dat')[0]\n",
    "df = pd.read_table(dat, sep='\\s+', names=['Top_Hit_#','Drift_Rate','SNR','Uncorrected_Frequency','Corrected_Frequency',\n",
    "                                            'Index', 'freq_start', 'freq_end', 'SEFD', 'SEFD_freq', 'Coarse_Channel_Number', \n",
    "                                            'Full_number_of_hits'], skiprows=9)\n",
    "table_freqs = df['Uncorrected_Frequency'].values[np.where(\n",
    "    (df['Uncorrected_Frequency'].values > 1100) & (df['Uncorrected_Frequency'].values < 1200) |\n",
    "    (df['Uncorrected_Frequency'].values > 1340) & (df['Uncorrected_Frequency'].values < 1900)\n",
    ")]\n",
    "table_drifts = df['Drift_Rate'].values[np.where(\n",
    "    (df['Uncorrected_Frequency'].values > 1100) & (df['Uncorrected_Frequency'].values < 1200) |\n",
    "    (df['Uncorrected_Frequency'].values > 1340) & (df['Uncorrected_Frequency'].values < 1900)\n",
    ")]\n",
    "table_snrs = df['SNR'].values[np.where(\n",
    "    (df['Uncorrected_Frequency'].values > 1100) & (df['Uncorrected_Frequency'].values < 1200) |\n",
    "    (df['Uncorrected_Frequency'].values > 1340) & (df['Uncorrected_Frequency'].values < 1900)\n",
    ")]\n",
    "m81_params_trimmed = m81_params[np.where(\n",
    "    (df['Uncorrected_Frequency'].values > 1100) & (df['Uncorrected_Frequency'].values < 1200) |\n",
    "    (df['Uncorrected_Frequency'].values > 1340) & (df['Uncorrected_Frequency'].values < 1900)\n",
    ")]\n",
    "m81_reds = np.load('/datax/scratch/benjb/C23_L_M81_injections/M81_retrieval_rednesses.npy', allow_pickle=True)[0]\n",
    "m81_reds = m81_reds[np.where(\n",
    "    (df['Uncorrected_Frequency'].values > 1100) & (df['Uncorrected_Frequency'].values < 1200) |\n",
    "    (df['Uncorrected_Frequency'].values > 1340) & (df['Uncorrected_Frequency'].values < 1900)\n",
    ")]\n",
    "freqs = table_freqs[stg_idxs]\n",
    "drifts = table_drifts[stg_idxs]\n",
    "snrs = table_snrs[stg_idxs]\n",
    "reds = m81_reds[stg_idxs]\n",
    "stg_params_9 = m81_params_trimmed[stg_idxs]\n",
    "stg_params = np.hstack([np.transpose([freqs, drifts, snrs]), stg_params_9, np.transpose([reds])])\n",
    "print(stg_params.shape)"
   ]
  },
  {
   "cell_type": "code",
   "execution_count": 9,
   "metadata": {},
   "outputs": [
    {
     "name": "stdout",
     "output_type": "stream",
     "text": [
      "Size hit_params_scaled = 1918199\n",
      "Size hit_params_unscaled = 1918199\n",
      "Commencing round 1!\n",
      "1918199 hits in dataset (100.0% of original).\n",
      "Batching ...\n",
      "Running HDBSCAN on all batches ...\n",
      "0: Removing hit at frequency 1197.118213 from /datax/scratch/benjb/C23_L_M31_injections/HDBSCAN/spliced_blc5051525354555657_guppi_58892_30909_NGC3379_0012.rawspec.0000.dat\n",
      "20000: Removing hit at frequency 1585.178515 from /datax/scratch/benjb/C23_L_M31_injections/HDBSCAN/blc03_guppi_58873_37909_NGC5195_0132.rawspec.0000.dat\n",
      "40000: Removing hit at frequency 1179.517449 from /datax/scratch/benjb/C23_L_M31_injections/HDBSCAN/blc05_guppi_59405_68230_NGC4136_0100.rawspec.0000.dat\n",
      "60000: Removing hit at frequency 1172.598476 from /datax/scratch/benjb/C23_L_M31_injections/HDBSCAN/blc05_guppi_59884_32854_HIP7229_0011.rawspec.0000.dat\n",
      "80000: Removing hit at frequency 1576.147597 from /datax/scratch/benjb/C23_L_M31_injections/HDBSCAN/blc73_guppi_58832_22677_And_XIV_0077.gpuspec.0000.dat\n",
      "100000: Removing hit at frequency 1600.173747 from /datax/scratch/benjb/C23_L_M31_injections/HDBSCAN/blc73_guppi_58832_24299_HIP5682_0082.gpuspec.0000.dat\n",
      "120000: Removing hit at frequency 1602.456783 from /datax/scratch/benjb/C23_L_M31_injections/HDBSCAN/blc03_guppi_59884_34588_NGC6503_0016.rawspec.0000.dat\n",
      "140000: Removing hit at frequency 1179.987748 from /datax/scratch/benjb/C23_L_M31_injections/HDBSCAN/blc75_guppi_58832_14904_And_XXIV_0053.gpuspec.0000.dat\n",
      "160000: Removing hit at frequency 1175.112812 from /datax/scratch/benjb/C23_L_M31_injections/HDBSCAN/blc35_guppi_59077_08644_NGC4258_0078.rawspec.0000.dat\n",
      "180000: Removing hit at frequency 1574.639444 from /datax/scratch/benjb/C23_L_M31_injections/HDBSCAN/blc73_guppi_58832_19765_HIP4367_0068.gpuspec.0000.dat\n",
      "200000: Removing hit at frequency 1539.832659 from /datax/scratch/benjb/C23_L_M31_injections/HDBSCAN/spliced_blc1011121314151617_guppi_58308_24687_IC0010_0026.gpuspec.0000.dat\n",
      "220000: Removing hit at frequency 1558.596614 from /datax/scratch/benjb/C23_L_M31_injections/HDBSCAN/blc13_guppi_59886_04039_HIP8564_0053.rawspec.0000.dat\n",
      "240000: Removing hit at frequency 1561.350857 from /datax/scratch/benjb/C23_L_M31_injections/HDBSCAN/blc03_guppi_59440_57291_HIP60915_0091.rawspec.0000.dat\n",
      "260000: Removing hit at frequency 1618.942411 from /datax/scratch/benjb/C23_L_M31_injections/HDBSCAN/blc03_guppi_59884_41818_HIP61385_0037.rawspec.0000.dat\n",
      "280000: Removing hit at frequency 1377.714629 from /datax/scratch/benjb/C23_L_M31_injections/HDBSCAN/blc04_guppi_59404_16120_NGC4618_0072.rawspec.0000.dat\n",
      "300000: Removing hit at frequency 1176.914658 from /datax/scratch/benjb/C23_L_M31_injections/HDBSCAN/blc35_guppi_59077_09608_HIP59493_0081.rawspec.0000.dat\n",
      "320000: Removing hit at frequency 1198.706233 from /datax/scratch/benjb/C23_L_M31_injections/HDBSCAN/blc75_guppi_58832_09400_HIP115106_0036.gpuspec.0000.dat\n",
      "340000: Removing hit at frequency 1532.148605 from /datax/scratch/benjb/C23_L_M31_injections/HDBSCAN/blc03_guppi_59427_00037_NGC4564_0040.rawspec.0000.dat\n",
      "360000: Removing hit at frequency 1530.391065 from /datax/scratch/benjb/C23_L_M31_injections/HDBSCAN/blc03_guppi_59427_11355_HIP66316_0075.rawspec.0000.dat\n",
      "380000: Removing hit at frequency 1554.592257 from /datax/scratch/benjb/C23_L_M31_injections/HDBSCAN/blc03_guppi_59440_57613_NGC4365_0092.rawspec.0000.dat\n",
      "400000: Removing hit at frequency 1197.479652 from /datax/scratch/benjb/C23_L_M31_injections/HDBSCAN/blc05_guppi_58873_05512_NGC6946_0038.rawspec.0000.dat\n",
      "420000: Removing hit at frequency 1380.846488 from /datax/scratch/benjb/C23_L_M31_injections/HDBSCAN/blc04_guppi_59405_56272_NGC1407_0064.rawspec.0000.dat\n",
      "440000: Removing hit at frequency 1382.246568 from /datax/scratch/benjb/C23_L_M31_injections/HDBSCAN/spliced_blc1011121314151617_guppi_58308_29213_Pegasus_off_0033.gpuspec.0000.dat\n",
      "460000: Removing hit at frequency 1561.05089 from /datax/scratch/benjb/C23_L_M31_injections/HDBSCAN/spliced_blc0001020304050607_guppi_58457_56063_Draco_0079.gpuspec.0000.dat\n",
      "480000: Removing hit at frequency 1197.721509 from /datax/scratch/benjb/C23_L_M31_injections/HDBSCAN/blc05_guppi_59884_42460_HIP60441_0039.rawspec.0000.dat\n",
      "500000: Removing hit at frequency 1171.436037 from /datax/scratch/benjb/C23_L_M31_injections/HDBSCAN/blc05_guppi_59405_65203_HIP42987_0091.rawspec.0000.dat\n",
      "520000: Removing hit at frequency 1502.993521 from /datax/scratch/benjb/C23_L_M31_injections/HDBSCAN/blc03_guppi_59405_63117_HIP33723_0085.rawspec.0000.dat\n",
      "540000: Removing hit at frequency 1181.220249 from /datax/scratch/benjb/C23_L_M31_injections/HDBSCAN/blc05_guppi_59405_64245_NGC2683_0088.rawspec.0000.dat\n",
      "560000: Removing hit at frequency 1177.380173 from /datax/scratch/benjb/C23_L_M31_injections/HDBSCAN/blc05_guppi_59426_79364_MESSIER84_0018.rawspec.0000.dat\n",
      "580000: Removing hit at frequency 1573.840021 from /datax/scratch/benjb/C23_L_M31_injections/HDBSCAN/blc03_guppi_59405_44453_And_II_0028.rawspec.0000.dat\n",
      "600000: Removing hit at frequency 1574.967219 from /datax/scratch/benjb/C23_L_M31_injections/HDBSCAN/blc03_guppi_59082_61231_HIP16459_0045.rawspec.0000.dat\n",
      "620000: Removing hit at frequency 1560.993455 from /datax/scratch/benjb/C23_L_M31_injections/HDBSCAN/blc03_guppi_59405_44769_HIP5682_0029.rawspec.0000.dat\n",
      "640000: Removing hit at frequency 1538.699387 from /datax/scratch/benjb/C23_L_M31_injections/HDBSCAN/blc03_guppi_59404_06691_HIP52313_0043.rawspec.0000.dat\n",
      "660000: Removing hit at frequency 1604.808091 from /datax/scratch/benjb/C23_L_M31_injections/HDBSCAN/blc03_guppi_59319_18763_SexB_0018.rawspec.0000.dat\n",
      "680000: Removing hit at frequency 1379.342264 from /datax/scratch/benjb/C23_L_M31_injections/HDBSCAN/spliced_blc5051525354555657_guppi_58892_31229_HIP53075_0013.rawspec.0000.dat\n",
      "700000: Removing hit at frequency 1170.062006 from /datax/scratch/benjb/C23_L_M31_injections/HDBSCAN/blc35_guppi_59860_23079_HIP35953_0029.rawspec.0000.dat\n",
      "720000: Removing hit at frequency 1575.32238 from /datax/scratch/benjb/C23_L_M31_injections/HDBSCAN/blc33_guppi_59860_20738_Maffei1_0022.rawspec.0000.dat\n",
      "740000: Removing hit at frequency 1548.524573 from /datax/scratch/benjb/C23_L_M31_injections/HDBSCAN/blc03_guppi_59405_52354_NGC1052_0052.rawspec.0000.dat\n",
      "760000: Removing hit at frequency 1384.809494 from /datax/scratch/benjb/C23_L_M31_injections/HDBSCAN/blc04_guppi_59405_56272_NGC1407_0064.rawspec.0000.dat\n",
      "780000: Removing hit at frequency 1531.056591 from /datax/scratch/benjb/C23_L_M31_injections/HDBSCAN/spliced_blc5051525354555657_guppi_58892_53189_HIP73938_0081.rawspec.0000.dat\n",
      "800000: Removing hit at frequency 1181.908501 from /datax/scratch/benjb/C23_L_M31_injections/HDBSCAN/blc05_guppi_59426_77089_HIP59819_0011.rawspec.0000.dat\n",
      "820000: Removing hit at frequency 1575.642753 from /datax/scratch/benjb/C23_L_M31_injections/HDBSCAN/blc33_guppi_59860_26039_HIP3062_0037.rawspec.0000.dat\n",
      "840000: Removing hit at frequency 1171.967606 from /datax/scratch/benjb/C23_L_M31_injections/HDBSCAN/blc05_guppi_59405_64881_NGC2683_0090.rawspec.0000.dat\n",
      "860000: Removing hit at frequency 1378.488732 from /datax/scratch/benjb/C23_L_M31_injections/HDBSCAN/blc04_guppi_59405_49388_HIP7867_0043.rawspec.0000.dat\n",
      "880000: Removing hit at frequency 1199.27719 from /datax/scratch/benjb/C23_L_M31_injections/HDBSCAN/blc05_guppi_59884_40210_MESSIER86_0032.rawspec.0000.dat\n",
      "900000: Removing hit at frequency 1530.779569 from /datax/scratch/benjb/C23_L_M31_injections/HDBSCAN/blc03_guppi_59427_08745_HIP63677_0067.rawspec.0000.dat\n",
      "Commencing round 2!\n",
      "1005473 hits in dataset (52.41755417451474% of original).\n",
      "Batching ...\n",
      "Running HDBSCAN on all batches ...\n",
      "0: Removing hit at frequency 1546.642925 from /datax/scratch/benjb/C23_L_M31_injections/HDBSCAN/blc03_guppi_59403_83654_SexDSph_0014.rawspec.0000.dat\n",
      "20000: Removing hit at frequency 1381.810724 from /datax/scratch/benjb/C23_L_M31_injections/HDBSCAN/spliced_blc0001020304050607_guppi_58306_40134_Bol520_off_0015.gpuspec.0000.dat\n",
      "40000: Removing hit at frequency 1556.288883 from /datax/scratch/benjb/C23_L_M31_injections/HDBSCAN/blc03_guppi_59884_38522_HIP50307_0027.rawspec.0000.dat\n",
      "60000: Removing hit at frequency 1178.765838 from /datax/scratch/benjb/C23_L_M31_injections/HDBSCAN/blc05_guppi_59884_33167_MESSIER033_0012.rawspec.0000.dat\n",
      "80000: Removing hit at frequency 1380.74916 from /datax/scratch/benjb/C23_L_M31_injections/HDBSCAN/blc04_guppi_59404_29366_HIP584_0111.rawspec.0000.dat\n",
      "100000: Removing hit at frequency 1381.722805 from /datax/scratch/benjb/C23_L_M31_injections/HDBSCAN/blc04_guppi_59404_31689_NGC636_0118.rawspec.0000.dat\n",
      "120000: Removing hit at frequency 1540.508182 from /datax/scratch/benjb/C23_L_M31_injections/HDBSCAN/blc03_guppi_59405_61161_HIP30265_0079.rawspec.0000.dat\n",
      "140000: Removing hit at frequency 1576.08787 from /datax/scratch/benjb/C23_L_M31_injections/HDBSCAN/blc73_guppi_58832_12978_And_X_0047.gpuspec.0000.dat\n",
      "160000: Removing hit at frequency 1179.805554 from /datax/scratch/benjb/C23_L_M31_injections/HDBSCAN/blc05_guppi_59405_57552_NGC1407_0068.rawspec.0000.dat\n",
      "180000: Removing hit at frequency 1625.252103 from /datax/scratch/benjb/C23_L_M31_injections/HDBSCAN/blc03_guppi_59427_09389_HIP62686_0069.rawspec.0000.dat\n",
      "200000: Removing hit at frequency 1574.966826 from /datax/scratch/benjb/C23_L_M31_injections/HDBSCAN/blc33_guppi_59860_18455_HIP14658_0015.rawspec.0000.dat\n",
      "220000: Removing hit at frequency 1574.846218 from /datax/scratch/benjb/C23_L_M31_injections/HDBSCAN/blc03_guppi_59884_42460_HIP60441_0039.rawspec.0000.dat\n",
      "240000: Removing hit at frequency 1552.106551 from /datax/scratch/benjb/C23_L_M31_injections/HDBSCAN/blc03_guppi_59405_69500_NGC4136_0104.rawspec.0000.dat\n",
      "Commencing round 3!\n",
      "749904 hits in dataset (39.09417114699778% of original).\n",
      "Batching ...\n",
      "Running HDBSCAN on all batches ...\n",
      "0: Removing hit at frequency 1686.266273 from /datax/scratch/benjb/C23_L_M31_injections/HDBSCAN/blc03_guppi_59426_80967_HIP60607_0023.rawspec.0000.dat\n",
      "20000: Removing hit at frequency 1178.252128 from /datax/scratch/benjb/C23_L_M31_injections/HDBSCAN/blc35_guppi_59077_06383_HIP59772_0071.rawspec.0000.dat\n",
      "40000: Removing hit at frequency 1700.030954 from /datax/scratch/benjb/C23_L_M31_injections/HDBSCAN/blc02_guppi_59405_67503_LeoA_0098.rawspec.0000.dat\n",
      "60000: Removing hit at frequency 1183.209617 from /datax/scratch/benjb/C23_L_M31_injections/HDBSCAN/blc75_guppi_58832_23983_And_II_0081.gpuspec.0000.dat\n",
      "80000: Removing hit at frequency 1194.853839 from /datax/scratch/benjb/C23_L_M31_injections/HDBSCAN/blc05_guppi_59405_56588_HIP17161_0065.rawspec.0000.dat\n",
      "100000: Removing hit at frequency 1576.704752 from /datax/scratch/benjb/C23_L_M31_injections/HDBSCAN/spliced_blc5051525354555657_guppi_58892_50603_HIP71141_0073.rawspec.0000.dat\n",
      "120000: Removing hit at frequency 1195.71349 from /datax/scratch/benjb/C23_L_M31_injections/HDBSCAN/blc05_guppi_59403_82685_HIP50385_0011.rawspec.0000.dat\n",
      "140000: Removing hit at frequency 1198.826998 from /datax/scratch/benjb/C23_L_M31_injections/HDBSCAN/spliced_blc5051525354555657_guppi_58892_30267_NGC3379_0010.rawspec.0000.dat\n",
      "160000: Removing hit at frequency 1180.720948 from /datax/scratch/benjb/C23_L_M31_injections/HDBSCAN/blc05_guppi_58873_33678_HIP66774_0119.rawspec.0000.dat\n",
      "Commencing round 4!\n",
      "585257 hits in dataset (30.51075514062931% of original).\n",
      "Batching ...\n",
      "Running HDBSCAN on all batches ...\n",
      "0: Removing hit at frequency 1545.883963 from /datax/scratch/benjb/C23_L_M31_injections/HDBSCAN/blc03_guppi_59404_20621_NGC5194_0086.rawspec.0000.dat\n",
      "20000: Removing hit at frequency 1600.434246 from /datax/scratch/benjb/C23_L_M31_injections/HDBSCAN/blc33_guppi_59860_23399_NGC2403_0030.rawspec.0000.dat\n",
      "40000: Removing hit at frequency 1574.286846 from /datax/scratch/benjb/C23_L_M31_injections/HDBSCAN/blc03_guppi_59405_61161_HIP30265_0079.rawspec.0000.dat\n",
      "60000: Removing hit at frequency 1195.411306 from /datax/scratch/benjb/C23_L_M31_injections/HDBSCAN/blc05_guppi_59884_32541_MESSIER033_0010.rawspec.0000.dat\n",
      "80000: Removing hit at frequency 1175.594604 from /datax/scratch/benjb/C23_L_M31_injections/HDBSCAN/blc05_guppi_58873_37909_NGC5195_0132.rawspec.0000.dat\n",
      "100000: Removing hit at frequency 1621.777704 from /datax/scratch/benjb/C23_L_M31_injections/HDBSCAN/blc03_guppi_59405_72111_NGC4486B_0112.rawspec.0000.dat\n",
      "120000: Removing hit at frequency 1380.549741 from /datax/scratch/benjb/C23_L_M31_injections/HDBSCAN/blc04_guppi_59404_35197_HIP7518_0129.rawspec.0000.dat\n",
      "Commencing round 5!\n",
      "452430 hits in dataset (23.586186834629775% of original).\n",
      "Batching ...\n",
      "Running HDBSCAN on all batches ...\n",
      "0: Removing hit at frequency 1603.419774 from /datax/scratch/benjb/C23_L_M31_injections/HDBSCAN/blc03_guppi_59404_07333_HIP53184_0045.rawspec.0000.dat\n",
      "20000: Removing hit at frequency 1180.756101 from /datax/scratch/benjb/C23_L_M31_injections/HDBSCAN/blc05_guppi_59426_78048_NGC4168_0014.rawspec.0000.dat\n",
      "40000: Removing hit at frequency 1575.92464 from /datax/scratch/benjb/C23_L_M31_injections/HDBSCAN/blc03_guppi_59405_69500_NGC4136_0104.rawspec.0000.dat\n",
      "60000: Removing hit at frequency 1383.511741 from /datax/scratch/benjb/C23_L_M31_injections/HDBSCAN/blc04_guppi_59404_19001_HIP62501_0081.rawspec.0000.dat\n",
      "80000: Removing hit at frequency 1379.501659 from /datax/scratch/benjb/C23_L_M31_injections/HDBSCAN/blc04_guppi_59405_55596_NGC1172_0062.rawspec.0000.dat\n",
      "100000: Removing hit at frequency 1380.5681 from /datax/scratch/benjb/C23_L_M31_injections/HDBSCAN/blc04_guppi_59405_53315_HIP12350_0055.rawspec.0000.dat\n",
      "120000: Removing hit at frequency 1439.493712 from /datax/scratch/benjb/C23_L_M31_injections/HDBSCAN/blc04_guppi_59405_68551_HIP58762_0101.rawspec.0000.dat\n",
      "Commencing round 6!\n",
      "330067 hits in dataset (17.207130229970925% of original).\n",
      "Batching ...\n",
      "Running HDBSCAN on all batches ...\n",
      "0: Removing hit at frequency 1172.936332 from /datax/scratch/benjb/C23_L_M31_injections/HDBSCAN/blc75_guppi_58832_22363_HIP3867_0076.gpuspec.0000.dat\n",
      "20000: Removing hit at frequency 1179.802867 from /datax/scratch/benjb/C23_L_M31_injections/HDBSCAN/spliced_blc5051525354555657_guppi_58892_60334_HIP80484_0103.rawspec.0000.dat\n",
      "40000: Removing hit at frequency 1172.167637 from /datax/scratch/benjb/C23_L_M31_injections/HDBSCAN/blc05_guppi_58873_34953_HIP66894_0123.rawspec.0000.dat\n",
      "60000: Removing hit at frequency 1179.67328 from /datax/scratch/benjb/C23_L_M31_injections/HDBSCAN/blc35_guppi_59860_20738_Maffei1_0022.rawspec.0000.dat\n",
      "Commencing round 7!\n",
      "250142 hits in dataset (13.040461391127824% of original).\n",
      "Batching ...\n",
      "Running HDBSCAN on all batches ...\n",
      "0: Removing hit at frequency 1374.979842 from /datax/scratch/benjb/C23_L_M31_injections/HDBSCAN/blc74_guppi_58832_10719_HIP2860_0040.gpuspec.0000.dat\n",
      "20000: Removing hit at frequency 1182.495215 from /datax/scratch/benjb/C23_L_M31_injections/HDBSCAN/blc05_guppi_58873_36271_HIP69435_0127.rawspec.0000.dat\n",
      "40000: Removing hit at frequency 1199.309898 from /datax/scratch/benjb/C23_L_M31_injections/HDBSCAN/blc75_guppi_58832_20435_HIP5148_0070.gpuspec.0000.dat\n",
      "60000: Removing hit at frequency 1180.501099 from /datax/scratch/benjb/C23_L_M31_injections/HDBSCAN/blc05_guppi_59404_19989_NGC5194_0084.rawspec.0000.dat\n",
      "Commencing round 8!\n",
      "190122 hits in dataset (9.911484679118278% of original).\n",
      "Batching ...\n",
      "Running HDBSCAN on all batches ...\n",
      "0: Removing hit at frequency 1181.138327 from /datax/scratch/benjb/C23_L_M31_injections/HDBSCAN/blc05_guppi_59404_16750_NGC4618_0074.rawspec.0000.dat\n",
      "20000: Removing hit at frequency 1575.4325 from /datax/scratch/benjb/C23_L_M31_injections/HDBSCAN/blc73_guppi_58832_24618_And_II_0083.gpuspec.0000.dat\n",
      "40000: Removing hit at frequency 1178.706994 from /datax/scratch/benjb/C23_L_M31_injections/HDBSCAN/blc05_guppi_59427_09389_HIP62686_0069.rawspec.0000.dat\n"
     ]
    }
   ],
   "source": [
    "dataset_sizes = [len(hit_dats)] # to be appended to for each epoch\n",
    "non_anom_centroids = [] # tracks idx and centroid for each non-anomalous hit\n",
    "\n",
    "#stg_params = np.load('/datax/scratch/benjb/C23_L_full_injected_params.npy', allow_pickle=True)\n",
    "\n",
    "full_params = np.vstack((hit_params, stg_params)) # need to be preprocessed together for quantile transforms\n",
    "full_params_scaled, full_params_unscaled = preprocess(full_params)\n",
    "\n",
    "# separate injected hits again so they can be re-injected into each batch later\n",
    "hit_params_scaled_0 = full_params_scaled[:-100]\n",
    "print(f'Size hit_params_scaled = {len(hit_params_scaled_0)}')\n",
    "hit_params_unscaled_0 = full_params_unscaled[:-100]\n",
    "print(f'Size hit_params_unscaled = {len(hit_params_unscaled_0)}')\n",
    "stg_params_scaled = full_params_scaled[-100:]\n",
    "stg_params_unscaled = full_params_unscaled[-100:]\n",
    "\n",
    "hit_idxs = np.arange(len(hit_dats))\n",
    "\n",
    "round_idxs = np.copy(hit_idxs) # i.e. idxs for the current round\n",
    "\n",
    "hit_params_scaled = hit_params_scaled_0[round_idxs] # set this in advance so the while loop doesn't immediately break\n",
    "\n",
    "round_counter = 0\n",
    "\n",
    "while len(hit_params_scaled) > 0.1 * dataset_sizes[0]:\n",
    "\n",
    "    round_counter += 1\n",
    "    print(f'Commencing round {round_counter}!')\n",
    "\n",
    "    n_batches = len(hit_dats) // 3000 # CHANGED 5k -> 3k OCT 29 2024\n",
    "    batch_size = len(hit_dats) // n_batches  # should be approx but probably not exactly 3k\n",
    "\n",
    "    #round_idxs = hit_idxs[keep_idxs] # these are for tracking anom hits\n",
    "\n",
    "    hit_params_scaled = hit_params_scaled_0[round_idxs]\n",
    "    hit_params_unscaled = hit_params_unscaled_0[round_idxs]\n",
    "\n",
    "    print(f'{len(hit_params_scaled)} hits in dataset ({100*len(hit_params_scaled)/dataset_sizes[0]}% of original).')\n",
    "    dataset_sizes.append(len(hit_params_scaled))\n",
    "\n",
    "    if round_counter == 9:\n",
    "        print('8 epochs done! Breaking ...')\n",
    "        break\n",
    "\n",
    "    hit_batches_scaled = []\n",
    "    hit_batches_unscaled = []\n",
    "    dat_batches = []\n",
    "    idx_batches = []\n",
    "\n",
    "    # shuffle hits before batching\n",
    "    idxs = np.arange(len(hit_params_scaled))\n",
    "    np.random.shuffle(idxs) \n",
    "    hit_params_scaled_shuffled = hit_params_scaled[idxs]\n",
    "    hit_params_unscaled_shuffled = hit_params_unscaled[idxs]\n",
    "    #hit_dats_shuffled = hit_dats[idxs]   # we should be pulling round_idxs from hit_dats before this step!\n",
    "    round_idxs_shuffled = round_idxs[idxs]\n",
    "    hit_dats_shuffled = hit_dats[round_idxs_shuffled]\n",
    "\n",
    "    print('Batching ...')\n",
    "\n",
    "    # do the batching\n",
    "    for i in range(n_batches):\n",
    "\n",
    "        if i != n_batches-1:\n",
    "            batch_scaled = hit_params_scaled_shuffled[i*batch_size:(i+1)*batch_size]\n",
    "            batch_unscaled = hit_params_unscaled_shuffled[i*batch_size:(i+1)*batch_size]\n",
    "            hit_dats_batch = hit_dats_shuffled[i*batch_size:(i+1)*batch_size]\n",
    "            round_idxs_batch = round_idxs_shuffled[i*batch_size:(i+1)*batch_size]\n",
    "        else:\n",
    "            batch_scaled = hit_params_scaled_shuffled[i*batch_size:] # catch the last few entries in the final batch\n",
    "            batch_unscaled = hit_params_unscaled_shuffled[i*batch_size:]\n",
    "            hit_dats_batch = hit_dats_shuffled[i*batch_size:]\n",
    "            round_idxs_batch = round_idxs_shuffled[i*batch_size:]\n",
    "\n",
    "        hit_batches_scaled.append(batch_scaled)\n",
    "        hit_batches_unscaled.append(batch_unscaled)\n",
    "        dat_batches.append(hit_dats_batch)\n",
    "        idx_batches.append(round_idxs_batch)\n",
    "\n",
    "    print('Running HDBSCAN on all batches ...')\n",
    "\n",
    "    # do the HDBSCANning\n",
    "    nmincluster = 4\n",
    "    nminsamples = 2\n",
    "    eps = 0.18 # CHANGED FROM 0.17 FOR 13D FEATURE SPACE\n",
    "               # iteration done in batch_hdbscan_choose_parameters.ipynb\n",
    "\n",
    "    dat_list_for_hit_deletion = np.empty((0, 2))\n",
    "    round_idxs_new = []\n",
    "\n",
    "    for i in range(len(hit_batches_scaled)):\n",
    "        #print('-----')\n",
    "        bbb_scaled = np.vstack((hit_batches_scaled[i], stg_params_scaled))\n",
    "        labels_list, centroids = batch_hdbscan(bbb_scaled, nmincluster, nminsamples, eps)\n",
    "        dat_freq_obj = np.transpose(np.array([hit_batches_unscaled[i][:,0], dat_batches[i]], dtype='object'))\n",
    "        non_anom_labels = np.array(list(\n",
    "            set(np.unique(labels_list))-set(np.unique(np.concatenate((labels_list[-100:], [-1]))))\n",
    "            ))\n",
    "        mask = np.isin(labels_list[:-100], non_anom_labels)\n",
    "        dat_freq_obj = dat_freq_obj[mask]\n",
    "        #centroids = centroids[non_anom_labels]\n",
    "\n",
    "        # track non-anomalous hits for later superclustering \n",
    "        truncated_labels_list = labels_list[:-100]\n",
    "        #print(f'Truncated labels list len {len(truncated_labels_list)}')\n",
    "        non_anom_labels_list = truncated_labels_list[mask]\n",
    "        #print(f'Non-anom labels list len {len(non_anom_labels_list)}')\n",
    "        #print(f'Non-anom labels list max {np.max(non_anom_labels_list)}')\n",
    "        #print(f'Centroids len {len(centroids)}')\n",
    "        centroids_list = centroids[non_anom_labels_list]\n",
    "        #print(f'Centroids list len {len(centroids_list)}')\n",
    "        idx_batch = idx_batches[i]\n",
    "        non_anom_idxs_in_batch = idx_batch[mask]\n",
    "        #print(f'Non-anom idxs in batch len {len(non_anom_idxs_in_batch)}')\n",
    "        for j in range(len(non_anom_idxs_in_batch)):\n",
    "            # need to be careful about indexing here\n",
    "            # [0] should be from non_anom_idxs_in_batch, not idx_batch\n",
    "            non_anom_centroids.append([non_anom_idxs_in_batch[j], centroids_list[j]])\n",
    "\n",
    "        # non-anomalous hits to be deleted\n",
    "        dat_list_for_hit_deletion = np.concatenate((dat_list_for_hit_deletion, dat_freq_obj))\n",
    "\n",
    "        # for updating round_idxs\n",
    "        keep_idxs = idx_batch[~mask] # recall that round_idxs gives the anomalous idxs for the current round\n",
    "        for ii in keep_idxs:\n",
    "            round_idxs_new.append(ii)\n",
    "\n",
    "    # after running all batches, delete non-anomalous hits\n",
    "    for i in range(len(dat_list_for_hit_deletion)):\n",
    "        freq = dat_list_for_hit_deletion[i][0]\n",
    "        dat_path = '/datax/scratch/benjb/C23_L_M31_injections/HDBSCAN/'+os.path.basename(dat_list_for_hit_deletion[i][1])\n",
    "        if i%20000 == 0:\n",
    "            print(f'{i}: Removing hit at frequency {freq} from {dat_path}')\n",
    "\n",
    "        bytes_available = psutil.virtual_memory()[1]\n",
    "        if bytes_available <= 32e9:\n",
    "            print(f'Memory dangerously low: {bytes_available} bytes remaining. Breaking ...')\n",
    "            break\n",
    "\n",
    "        lines = []\n",
    "        for line in open(dat_path):\n",
    "            if not str(freq) in line:\n",
    "                lines.append(line)\n",
    "\n",
    "        with open(dat_path, 'w') as file:\n",
    "            file.writelines(lines)\n",
    "            file.close() # confirm whether this is truly overwriting the .dat files\n",
    "                         # perhaps with a hit count check at the beginning of the while loop\n",
    "\n",
    "    # update round_idxs\n",
    "    round_idxs = np.copy(round_idxs_new)\n",
    "        "
   ]
  },
  {
   "cell_type": "code",
   "execution_count": 20,
   "metadata": {},
   "outputs": [],
   "source": [
    "hit_params_scaled_final = hit_params_scaled_0[round_idxs]\n",
    "hit_params_unscaled_final = hit_params_unscaled_0[round_idxs]"
   ]
  },
  {
   "cell_type": "code",
   "execution_count": 21,
   "metadata": {},
   "outputs": [
    {
     "name": "stdout",
     "output_type": "stream",
     "text": [
      "133149\n"
     ]
    }
   ],
   "source": [
    "print(len(hit_params_scaled_final))"
   ]
  },
  {
   "cell_type": "code",
   "execution_count": 37,
   "metadata": {},
   "outputs": [],
   "source": [
    "np.save('/datax/scratch/benjb/C23_L_M31_injections/HDBSCAN/input_params.npy', hit_params_unscaled_0)\n",
    "np.save('/datax/scratch/benjb/C23_L_M31_injections/HDBSCAN/input_params_scaled.npy', hit_params_scaled_0)"
   ]
  },
  {
   "cell_type": "code",
   "execution_count": 36,
   "metadata": {},
   "outputs": [
    {
     "data": {
      "image/png": "[encoded data removed]",
      "text/plain": [
       "<Figure size 640x480 with 1 Axes>"
      ]
     },
     "metadata": {},
     "output_type": "display_data"
    }
   ],
   "source": [
    "plt.hist(np.log10(hit_params_unscaled_0[:,12]), bins=50)\n",
    "plt.hist(np.log10(hit_params_unscaled_final[:,12]), bins=50)\n",
    "plt.yscale('log')\n",
    "plt.show()"
   ]
  },
  {
   "cell_type": "code",
   "execution_count": 22,
   "metadata": {},
   "outputs": [],
   "source": [
    "np.save('/datax/scratch/benjb/C23_L_M31_injections/HDBSCAN/8_epoch_anom_params.npy', hit_params_unscaled_final)\n",
    "np.save('/datax/scratch/benjb/C23_L_M31_injections/HDBSCAN/8_epoch_anom_params_scaled.npy', hit_params_scaled_final)\n",
    "#np.save('/datax/scratch/benjb/C23_L_M31_injections/HDBSCAN/8_epoch_anom_dats.npy')"
   ]
  },
  {
   "cell_type": "code",
   "execution_count": 19,
   "metadata": {},
   "outputs": [
    {
     "name": "stdout",
     "output_type": "stream",
     "text": [
      "1918199\n"
     ]
    }
   ],
   "source": [
    "print(len(non_anom_centroids)+133149)"
   ]
  },
  {
   "cell_type": "code",
   "execution_count": 12,
   "metadata": {},
   "outputs": [],
   "source": [
    "cci = np.array([c[0] for c in non_anom_centroids])"
   ]
  },
  {
   "cell_type": "code",
   "execution_count": 13,
   "metadata": {},
   "outputs": [
    {
     "name": "stdout",
     "output_type": "stream",
     "text": [
      "(1785050, 13)\n"
     ]
    }
   ],
   "source": [
    "ccc = np.array([c[1] for c in non_anom_centroids])\n",
    "print(ccc.shape)"
   ]
  },
  {
   "cell_type": "code",
   "execution_count": 14,
   "metadata": {},
   "outputs": [],
   "source": [
    "np.save('/datax/scratch/benjb/C23_L_M31_injections/HDBSCAN/non_anom_centroid_idxs.npy', cci)\n",
    "np.save('/datax/scratch/benjb/C23_L_M31_injections/HDBSCAN/non_anom_centroids.npy', ccc)"
   ]
  },
  {
   "cell_type": "code",
   "execution_count": 17,
   "metadata": {},
   "outputs": [
    {
     "data": {
      "text/plain": [
       "1975172"
      ]
     },
     "execution_count": 17,
     "metadata": {},
     "output_type": "execute_result"
    }
   ],
   "source": [
    "1785050+190122"
   ]
  },
  {
   "cell_type": "code",
   "execution_count": 16,
   "metadata": {},
   "outputs": [
    {
     "name": "stdout",
     "output_type": "stream",
     "text": [
      "[1918199, 1918199, 1005473, 749904, 585257, 452430, 330067, 250142, 190122]\n",
      "190122\n"
     ]
    }
   ],
   "source": [
    "print(dataset_sizes)\n",
    "print(len(hit_params_scaled))"
   ]
  },
  {
   "cell_type": "code",
   "execution_count": null,
   "metadata": {},
   "outputs": [],
   "source": [
    "### PICK BACK UP HERE 08/29/24"
   ]
  },
  {
   "cell_type": "code",
   "execution_count": null,
   "metadata": {},
   "outputs": [],
   "source": []
  },
  {
   "cell_type": "code",
   "execution_count": 126,
   "metadata": {},
   "outputs": [
    {
     "name": "stdout",
     "output_type": "stream",
     "text": [
      "1782224\n"
     ]
    }
   ],
   "source": [
    "print(len(np.unique(cci)))"
   ]
  },
  {
   "cell_type": "code",
   "execution_count": 128,
   "metadata": {},
   "outputs": [
    {
     "name": "stdout",
     "output_type": "stream",
     "text": [
      "1917903\n"
     ]
    }
   ],
   "source": [
    "print(len(ccc)+135679)"
   ]
  },
  {
   "cell_type": "code",
   "execution_count": 120,
   "metadata": {},
   "outputs": [
    {
     "name": "stdout",
     "output_type": "stream",
     "text": [
      "135679\n"
     ]
    }
   ],
   "source": [
    "print(len(round_idxs))"
   ]
  },
  {
   "cell_type": "code",
   "execution_count": 121,
   "metadata": {},
   "outputs": [
    {
     "name": "stdout",
     "output_type": "stream",
     "text": [
      "[1917903 1095967  687740  499862  354721  276220  220727  182218  135679]\n"
     ]
    }
   ],
   "source": [
    "dat_sizes = np.array(dataset_sizes[1:])\n",
    "dat_sizes = np.concatenate((dat_sizes, [135679]))\n",
    "print(dat_sizes)"
   ]
  },
  {
   "cell_type": "code",
   "execution_count": 122,
   "metadata": {},
   "outputs": [
    {
     "name": "stdout",
     "output_type": "stream",
     "text": [
      "[100.          57.14402657  35.85895637  26.06294479  18.49525237\n",
      "  14.40218822  11.50876765   9.50089759   7.07434109]\n"
     ]
    }
   ],
   "source": [
    "yyyy = 100*dat_sizes/dat_sizes[0]\n",
    "print(yyyy)"
   ]
  },
  {
   "cell_type": "code",
   "execution_count": 124,
   "metadata": {},
   "outputs": [
    {
     "data": {
      "image/png": "[encoded data removed]",
      "text/plain": [
       "<Figure size 640x480 with 1 Axes>"
      ]
     },
     "metadata": {},
     "output_type": "display_data"
    }
   ],
   "source": [
    "xxx = np.arange(9)\n",
    "#yyy = 100*dat_sizes/dat_sizes[0]\n",
    "plt.plot(xxx, yyyy, 'o-', color='k', markersize=7, label='empirical')\n",
    "#plt.plot(np.linspace(0,8,100), 10**p(np.log10(np.linspace(1,9,100))), color='r', label='power law fit')\n",
    "plt.grid()\n",
    "plt.yticks([10,20,30,40,50,60,70,80,90,100])\n",
    "plt.xlabel('HDBSCAN epoch', size=13)\n",
    "plt.ylabel(r'anomalous hits [% of original]', size=13)\n",
    "#plt.legend()\n",
    "#plt.ylim(2,108)\n",
    "plt.savefig('/datax/scratch/benjb/C23_L_hit_reduction_by_epoch_2.pdf', bbox_inches='tight')\n",
    "plt.show()"
   ]
  },
  {
   "cell_type": "code",
   "execution_count": 72,
   "metadata": {},
   "outputs": [
    {
     "data": {
      "image/png": "[encoded data removed]",
      "text/plain": [
       "<Figure size 640x480 with 1 Axes>"
      ]
     },
     "metadata": {},
     "output_type": "display_data"
    }
   ],
   "source": [
    "plt.plot(np.log10(xxx+1), np.log10(yyy), 'o-', color='k', markersize=7)\n",
    "z = np.polyfit(np.log10(xxx+1), np.log10(yyy), 1)\n",
    "p = np.poly1d(z)\n",
    "plt.plot(np.log10(xxx+1), p(np.log10(xxx+1)), color='r')\n",
    "plt.show()"
   ]
  },
  {
   "cell_type": "code",
   "execution_count": 73,
   "metadata": {},
   "outputs": [
    {
     "name": "stdout",
     "output_type": "stream",
     "text": [
      "[-1.16070807  2.05170783]\n"
     ]
    }
   ],
   "source": [
    "print(z)"
   ]
  },
  {
   "cell_type": "code",
   "execution_count": 97,
   "metadata": {},
   "outputs": [
    {
     "name": "stdout",
     "output_type": "stream",
     "text": [
      "[100.          54.0537243   33.90604217  23.65458524  18.4049454\n",
      "  14.27726011  11.92218793   9.46695427   7.99732833]\n"
     ]
    }
   ],
   "source": [
    "print(yyy)"
   ]
  },
  {
   "cell_type": "code",
   "execution_count": 74,
   "metadata": {},
   "outputs": [],
   "source": [
    "a = np.log10(2.05170783)\n",
    "b = -1.16070807"
   ]
  },
  {
   "cell_type": "code",
   "execution_count": 125,
   "metadata": {},
   "outputs": [
    {
     "name": "stdout",
     "output_type": "stream",
     "text": [
      "0.4285597342514194\n",
      "0.3724811057267235\n",
      "0.273181725652136\n",
      "0.2903621399506264\n",
      "0.22130350331669116\n",
      "0.20090145536166826\n",
      "0.17446438360508676\n",
      "0.2554028690908692\n"
     ]
    }
   ],
   "source": [
    "reds = []\n",
    "\n",
    "for i in range(len(xxx)-1):\n",
    "    curr = yyyy[i]\n",
    "    foll = yyyy[i+1]\n",
    "    #print(curr, foll)\n",
    "    reduction = (curr-foll) / curr\n",
    "    print(reduction)\n",
    "    reds.append(reduction)"
   ]
  },
  {
   "cell_type": "code",
   "execution_count": 96,
   "metadata": {},
   "outputs": [
    {
     "data": {
      "image/png": "[encoded data removed]",
      "text/plain": [
       "<Figure size 640x480 with 1 Axes>"
      ]
     },
     "metadata": {},
     "output_type": "display_data"
    }
   ],
   "source": [
    "plt.plot(np.array(reds)*100, 'o-', color='k')\n",
    "plt.ylim(0,100)\n",
    "plt.show()"
   ]
  },
  {
   "cell_type": "code",
   "execution_count": 89,
   "metadata": {},
   "outputs": [
    {
     "name": "stdout",
     "output_type": "stream",
     "text": [
      "0.46\n",
      "0.37037037037037035\n"
     ]
    }
   ],
   "source": [
    "print((100-54)/100)\n",
    "print((54-34)/54)"
   ]
  },
  {
   "cell_type": "code",
   "execution_count": 63,
   "metadata": {},
   "outputs": [
    {
     "name": "stdout",
     "output_type": "stream",
     "text": [
      "[0 1 2 3 4 5 6 7 8]\n",
      "[100.          54.0537243   33.90604217  23.65458524  18.4049454\n",
      "  14.27726011  11.92218793   9.46695427   7.99732833]\n"
     ]
    }
   ],
   "source": [
    "print(xxx)\n",
    "print(yyy)"
   ]
  },
  {
   "cell_type": "code",
   "execution_count": 49,
   "metadata": {},
   "outputs": [
    {
     "name": "stdout",
     "output_type": "stream",
     "text": [
      "[1.         0.54053724 0.33906042 0.23654585 0.18404945 0.1427726\n",
      " 0.11922188 0.09466954]\n",
      "[1.         0.58       0.3364     0.195112   0.11316496 0.06563568\n",
      " 0.03806869 0.02207984]\n"
     ]
    }
   ],
   "source": [
    "print(dat_sizes/dat_sizes[0])\n",
    "print(np.array([0.58**x for x in np.arange(8)]))"
   ]
  },
  {
   "cell_type": "code",
   "execution_count": 10,
   "metadata": {},
   "outputs": [
    {
     "name": "stdout",
     "output_type": "stream",
     "text": [
      "[False  True  True False  True False  True False False False  True False]\n",
      "[ True False False  True False  True False  True  True  True False  True]\n"
     ]
    }
   ],
   "source": [
    "a = [2, 3, 5, 7, 11]\n",
    "b = [1, 2, 3, 4, 5, 6, 7, 8, 9, 10, 11, 12]\n",
    "\n",
    "mask = np.isin(b, a)\n",
    "print(mask)\n",
    "print(~mask)"
   ]
  },
  {
   "cell_type": "code",
   "execution_count": 13,
   "metadata": {},
   "outputs": [
    {
     "name": "stdout",
     "output_type": "stream",
     "text": [
      "[ 1  4  6  8  9 10 12]\n"
     ]
    }
   ],
   "source": [
    "print(np.array(b)[mask])"
   ]
  },
  {
   "cell_type": "code",
   "execution_count": null,
   "metadata": {},
   "outputs": [],
   "source": []
  }
 ],
 "metadata": {
  "kernelspec": {
   "display_name": "sklearn-env",
   "language": "python",
   "name": "python3"
  },
  "language_info": {
   "codemirror_mode": {
    "name": "ipython",
    "version": 3
   },
   "file_extension": ".py",
   "mimetype": "text/x-python",
   "name": "python",
   "nbconvert_exporter": "python",
   "pygments_lexer": "ipython3",
   "version": "3.12.4"
  }
 },
 "nbformat": 4,
 "nbformat_minor": 2
}
